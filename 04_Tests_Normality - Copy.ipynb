{
 "cells": [
  {
   "cell_type": "markdown",
   "metadata": {},
   "source": [
    "**Exploratory Data Analysis**  \n",
    "\n",
    "**Statistics**  \n",
    "\n",
    "___"
   ]
  },
  {
   "cell_type": "code",
   "execution_count": 1,
   "metadata": {},
   "outputs": [],
   "source": [
    "import numpy as np\n",
    "import pandas as pd\n",
    "import matplotlib.pyplot as plt\n",
    "import seaborn as sns\n",
    "sns.set()\n",
    "import scipy.stats as stats"
   ]
  },
  {
   "cell_type": "markdown",
   "metadata": {},
   "source": [
    "# Import data"
   ]
  },
  {
   "cell_type": "code",
   "execution_count": 2,
   "metadata": {},
   "outputs": [
    {
     "data": {
      "text/html": [
       "<div>\n",
       "<style scoped>\n",
       "    .dataframe tbody tr th:only-of-type {\n",
       "        vertical-align: middle;\n",
       "    }\n",
       "\n",
       "    .dataframe tbody tr th {\n",
       "        vertical-align: top;\n",
       "    }\n",
       "\n",
       "    .dataframe thead th {\n",
       "        text-align: right;\n",
       "    }\n",
       "</style>\n",
       "<table border=\"1\" class=\"dataframe\">\n",
       "  <thead>\n",
       "    <tr style=\"text-align: right;\">\n",
       "      <th></th>\n",
       "      <th>SP500</th>\n",
       "      <th>Commo</th>\n",
       "      <th>TBond</th>\n",
       "    </tr>\n",
       "    <tr>\n",
       "      <th>Date</th>\n",
       "      <th></th>\n",
       "      <th></th>\n",
       "      <th></th>\n",
       "    </tr>\n",
       "  </thead>\n",
       "  <tbody>\n",
       "    <tr>\n",
       "      <th>2023-12-22</th>\n",
       "      <td>0.001772</td>\n",
       "      <td>0.008827</td>\n",
       "      <td>-0.001512</td>\n",
       "    </tr>\n",
       "    <tr>\n",
       "      <th>2023-12-26</th>\n",
       "      <td>0.004110</td>\n",
       "      <td>0.000535</td>\n",
       "      <td>0.003787</td>\n",
       "    </tr>\n",
       "    <tr>\n",
       "      <th>2023-12-27</th>\n",
       "      <td>0.001762</td>\n",
       "      <td>0.011515</td>\n",
       "      <td>0.013078</td>\n",
       "    </tr>\n",
       "    <tr>\n",
       "      <th>2023-12-28</th>\n",
       "      <td>-0.000259</td>\n",
       "      <td>-0.003843</td>\n",
       "      <td>-0.005958</td>\n",
       "    </tr>\n",
       "    <tr>\n",
       "      <th>2023-12-29</th>\n",
       "      <td>-0.002535</td>\n",
       "      <td>-0.005545</td>\n",
       "      <td>-0.001499</td>\n",
       "    </tr>\n",
       "  </tbody>\n",
       "</table>\n",
       "</div>"
      ],
      "text/plain": [
       "               SP500     Commo     TBond\n",
       "Date                                    \n",
       "2023-12-22  0.001772  0.008827 -0.001512\n",
       "2023-12-26  0.004110  0.000535  0.003787\n",
       "2023-12-27  0.001762  0.011515  0.013078\n",
       "2023-12-28 -0.000259 -0.003843 -0.005958\n",
       "2023-12-29 -0.002535 -0.005545 -0.001499"
      ]
     },
     "metadata": {},
     "output_type": "display_data"
    },
    {
     "data": {
      "text/plain": [
       "Date\n",
       "2023-12-22   -0.219777\n",
       "2023-12-26   -0.329805\n",
       "2023-12-27   -0.710735\n",
       "2023-12-28    0.268532\n",
       "2023-12-29    0.282610\n",
       "Name: 0, dtype: float64"
      ]
     },
     "metadata": {},
     "output_type": "display_data"
    }
   ],
   "source": [
    "returns = pd.read_excel('hist_data.xlsx').set_index('Date').pct_change().dropna()\n",
    "losses = pd.read_excel('losses.xlsx').set_index('Date').loc[:, 0] / 1e6\n",
    "display(returns.tail())\n",
    "display(losses.tail())"
   ]
  },
  {
   "cell_type": "markdown",
   "metadata": {},
   "source": [
    "# Summary statistics using *pandas*"
   ]
  },
  {
   "cell_type": "markdown",
   "metadata": {},
   "source": [
    "Use the `pandas.DataFrame.describe` method  \n",
    "<https://pandas.pydata.org/pandas-docs/stable/reference/api/pandas.DataFrame.describe.html>."
   ]
  },
  {
   "cell_type": "code",
   "execution_count": 3,
   "metadata": {},
   "outputs": [
    {
     "data": {
      "text/html": [
       "<div>\n",
       "<style scoped>\n",
       "    .dataframe tbody tr th:only-of-type {\n",
       "        vertical-align: middle;\n",
       "    }\n",
       "\n",
       "    .dataframe tbody tr th {\n",
       "        vertical-align: top;\n",
       "    }\n",
       "\n",
       "    .dataframe thead th {\n",
       "        text-align: right;\n",
       "    }\n",
       "</style>\n",
       "<table border=\"1\" class=\"dataframe\">\n",
       "  <thead>\n",
       "    <tr style=\"text-align: right;\">\n",
       "      <th></th>\n",
       "      <th>SP500</th>\n",
       "      <th>Commo</th>\n",
       "      <th>TBond</th>\n",
       "    </tr>\n",
       "  </thead>\n",
       "  <tbody>\n",
       "    <tr>\n",
       "      <th>count</th>\n",
       "      <td>1258.000000</td>\n",
       "      <td>1258.000000</td>\n",
       "      <td>1258.000000</td>\n",
       "    </tr>\n",
       "    <tr>\n",
       "      <th>mean</th>\n",
       "      <td>0.000608</td>\n",
       "      <td>0.000427</td>\n",
       "      <td>-0.000101</td>\n",
       "    </tr>\n",
       "    <tr>\n",
       "      <th>std</th>\n",
       "      <td>0.013328</td>\n",
       "      <td>0.009881</td>\n",
       "      <td>0.007316</td>\n",
       "    </tr>\n",
       "    <tr>\n",
       "      <th>min</th>\n",
       "      <td>-0.103765</td>\n",
       "      <td>-0.049787</td>\n",
       "      <td>-0.040274</td>\n",
       "    </tr>\n",
       "    <tr>\n",
       "      <th>25%</th>\n",
       "      <td>-0.004968</td>\n",
       "      <td>-0.004188</td>\n",
       "      <td>-0.004367</td>\n",
       "    </tr>\n",
       "    <tr>\n",
       "      <th>50%</th>\n",
       "      <td>0.000860</td>\n",
       "      <td>0.000505</td>\n",
       "      <td>-0.000196</td>\n",
       "    </tr>\n",
       "    <tr>\n",
       "      <th>75%</th>\n",
       "      <td>0.007333</td>\n",
       "      <td>0.005556</td>\n",
       "      <td>0.004040</td>\n",
       "    </tr>\n",
       "    <tr>\n",
       "      <th>max</th>\n",
       "      <td>0.097951</td>\n",
       "      <td>0.059477</td>\n",
       "      <td>0.037347</td>\n",
       "    </tr>\n",
       "  </tbody>\n",
       "</table>\n",
       "</div>"
      ],
      "text/plain": [
       "             SP500        Commo        TBond\n",
       "count  1258.000000  1258.000000  1258.000000\n",
       "mean      0.000608     0.000427    -0.000101\n",
       "std       0.013328     0.009881     0.007316\n",
       "min      -0.103765    -0.049787    -0.040274\n",
       "25%      -0.004968    -0.004188    -0.004367\n",
       "50%       0.000860     0.000505    -0.000196\n",
       "75%       0.007333     0.005556     0.004040\n",
       "max       0.097951     0.059477     0.037347"
      ]
     },
     "execution_count": 3,
     "metadata": {},
     "output_type": "execute_result"
    }
   ],
   "source": [
    "returns.describe()"
   ]
  },
  {
   "cell_type": "markdown",
   "metadata": {},
   "source": [
    "Use the `pandas.DataFrame.mean() / .std() / .skew() / .kurt()` methods."
   ]
  },
  {
   "cell_type": "code",
   "execution_count": 6,
   "metadata": {},
   "outputs": [
    {
     "data": {
      "text/plain": [
       "SP500    12.557119\n",
       "Commo     4.327102\n",
       "TBond     2.493257\n",
       "dtype: float64"
      ]
     },
     "execution_count": 6,
     "metadata": {},
     "output_type": "execute_result"
    }
   ],
   "source": [
    "returns.kurt()"
   ]
  },
  {
   "cell_type": "code",
   "execution_count": 7,
   "metadata": {
    "tags": []
   },
   "outputs": [
    {
     "name": "stdout",
     "output_type": "stream",
     "text": [
      "mean loss         : -0.036 m€\n"
     ]
    }
   ],
   "source": [
    "print(f\"mean loss         : {losses.mean():.3f} m€\")\n",
    "print(f\"median loss       : {          :.3f} m€\")\n",
    "print(f\"standard deviation: {          :.3f} m€\")\n",
    "print(f\"skewness          : {          :.4f}\")\n",
    "print(f\"kurtosis          : {          :.4f}\")"
   ]
  },
  {
   "cell_type": "markdown",
   "metadata": {},
   "source": [
    "# Summary statistics using *scipy.stats*"
   ]
  },
  {
   "cell_type": "markdown",
   "metadata": {},
   "source": [
    "Find the names of the methods to complete the cell below.  \n",
    "- Mean, median and standard deviation have to be computed using *pandas* methods.  \n",
    "- Skew and kurtosis use *scipy.stats* functions. See the \"Summary statistics\" section in <https://docs.scipy.org/doc/scipy/reference/stats.html#summary-statistics>."
   ]
  },
  {
   "cell_type": "code",
   "execution_count": 8,
   "metadata": {},
   "outputs": [
    {
     "data": {
      "text/plain": [
       "array([-0.59931057, -0.10671237,  0.10333392])"
      ]
     },
     "execution_count": 8,
     "metadata": {},
     "output_type": "execute_result"
    }
   ],
   "source": [
    "stats.skew(returns)"
   ]
  },
  {
   "cell_type": "markdown",
   "metadata": {},
   "source": [
    "Use `scipy.stats.describe`  \n",
    "https://docs.scipy.org/doc/scipy/reference/generated/scipy.stats.describe.html"
   ]
  },
  {
   "cell_type": "code",
   "execution_count": 9,
   "metadata": {},
   "outputs": [
    {
     "data": {
      "text/plain": [
       "DescribeResult(nobs=1258, minmax=(-5.951403346606064, 5.826665911891337), mean=-0.03590236669691908, variance=0.5337666315731217, skewness=0.23993455240053568, kurtosis=10.508279710362261)"
      ]
     },
     "execution_count": 9,
     "metadata": {},
     "output_type": "execute_result"
    }
   ],
   "source": [
    "desc_res = stats.describe(losses)\n",
    "desc_res"
   ]
  },
  {
   "cell_type": "code",
   "execution_count": 10,
   "metadata": {},
   "outputs": [
    {
     "data": {
      "text/plain": [
       "-0.03590236669691908"
      ]
     },
     "execution_count": 10,
     "metadata": {},
     "output_type": "execute_result"
    }
   ],
   "source": [
    "desc_res.mean"
   ]
  },
  {
   "cell_type": "code",
   "execution_count": 11,
   "metadata": {},
   "outputs": [
    {
     "data": {
      "text/plain": [
       "(-5.951403346606064, 5.826665911891337)"
      ]
     },
     "execution_count": 11,
     "metadata": {},
     "output_type": "execute_result"
    }
   ],
   "source": [
    "desc_res.minmax"
   ]
  },
  {
   "cell_type": "markdown",
   "metadata": {},
   "source": [
    "# Quantiles"
   ]
  },
  {
   "cell_type": "markdown",
   "metadata": {},
   "source": [
    "Use `scipy.stats.scoreatpercentile()` to find the quantiles of the S&P 500 returns at the given percentiles.  \n",
    "<https://docs.scipy.org/doc/scipy/reference/generated/scipy.stats.scoreatpercentile.html>"
   ]
  },
  {
   "cell_type": "code",
   "execution_count": 12,
   "metadata": {},
   "outputs": [
    {
     "name": "stdout",
     "output_type": "stream",
     "text": [
      "01%-quantile = -1.799 m€\n",
      "05%-quantile = -1.033 m€\n",
      "10%-quantile = -0.781 m€\n",
      "25%-quantile = -0.393 m€\n",
      "50%-quantile = -0.066 m€\n",
      "75%-quantile = 0.310 m€\n",
      "90%-quantile = 0.742 m€\n",
      "95%-quantile = 1.062 m€\n",
      "99%-quantile = 2.014 m€\n"
     ]
    }
   ],
   "source": [
    "percentiles = [1, 5, 10, 25, 50, 75, 90, 95, 99]\n",
    "\n",
    "for p in percentiles:\n",
    "    quantile = stats.scoreatpercentile(losses, p)\n",
    "    print(f\"{p:02d}%-quantile = {quantile:.3f} m€\")"
   ]
  },
  {
   "cell_type": "markdown",
   "metadata": {},
   "source": [
    "# Normal Probability plot"
   ]
  },
  {
   "cell_type": "markdown",
   "metadata": {},
   "source": [
    "Use `scipy.stats.probplot` to draw a Normal Probabiliity plot of `x`.\\\n",
    "<https://docs.scipy.org/doc/scipy/reference/generated/scipy.stats.probplot.html>\\\n",
    "Note that you need to capture the output of the `probplot()` function to avoid cluttering your screen. Here we save this output in the variable `res`."
   ]
  },
  {
   "cell_type": "code",
   "execution_count": 13,
   "metadata": {},
   "outputs": [
    {
     "data": {
      "image/png": "[encoded data removed]",
      "text/plain": [
       "<Figure size 500x500 with 1 Axes>"
      ]
     },
     "metadata": {},
     "output_type": "display_data"
    }
   ],
   "source": [
    "fig, ax = plt.subplots(figsize=(5,5))\n",
    "res = stats.probplot(losses, plot=ax)\n",
    "ax.axhline(0, c='k', ls=':')\n",
    "ax.axvline(0, c='k', ls=':');"
   ]
  },
  {
   "cell_type": "markdown",
   "metadata": {},
   "source": [
    "# Q-Q Plot with Student's t distribution"
   ]
  },
  {
   "cell_type": "code",
   "execution_count": 14,
   "metadata": {},
   "outputs": [
    {
     "data": {
      "image/png": "[encoded data removed]",
      "text/plain": [
       "<Figure size 500x500 with 1 Axes>"
      ]
     },
     "metadata": {},
     "output_type": "display_data"
    }
   ],
   "source": [
    "fig, ax = plt.subplots(figsize=(5,5))\n",
    "res = stats.probplot(losses, sparams=(5), dist='t', plot=ax)\n",
    "ax.axhline(0, c='k', ls=':')\n",
    "ax.axvline(0, c='k', ls=':');"
   ]
  },
  {
   "cell_type": "markdown",
   "metadata": {},
   "source": [
    "Using `scipy.stats.probplot`, draw three Q-Q plots versus the Student's $t$ distribution with the degrees of freedom given in the *list*."
   ]
  },
  {
   "cell_type": "code",
   "execution_count": 17,
   "metadata": {},
   "outputs": [
    {
     "data": {
      "text/plain": [
       "<Axes: >"
      ]
     },
     "execution_count": 17,
     "metadata": {},
     "output_type": "execute_result"
    }
   ],
   "source": [
    "axs[0]"
   ]
  },
  {
   "cell_type": "code",
   "execution_count": 21,
   "metadata": {},
   "outputs": [
    {
     "data": {
      "image/png": "[encoded data removed]",
      "text/plain": [
       "<Figure size 1200x400 with 3 Axes>"
      ]
     },
     "metadata": {},
     "output_type": "display_data"
    }
   ],
   "source": [
    "df_list = [3, 5, 10]\n",
    "\n",
    "fig, axs = plt.subplots(1, 3, figsize=(12,4))\n",
    "for ax, nu in zip(axs, df_list):\n",
    "    res = stats.probplot(losses, sparams=(nu), dist='t', plot=ax)\n",
    "    ax.axhline(0, c='k', ls=':')\n",
    "    ax.axvline(0, c='k', ls=':')\n",
    "    ax.set_title(f\"t distribution with {nu} df\")"
   ]
  },
  {
   "cell_type": "markdown",
   "metadata": {},
   "source": [
    "# Statistical tests of normality"
   ]
  },
  {
   "cell_type": "markdown",
   "metadata": {},
   "source": [
    "## Standardized values"
   ]
  },
  {
   "cell_type": "markdown",
   "metadata": {},
   "source": [
    "We start by computing the standardized values of `x`."
   ]
  },
  {
   "cell_type": "code",
   "execution_count": 22,
   "metadata": {},
   "outputs": [],
   "source": [
    "x = losses\n",
    "z = (x - x.mean()) / x.std()"
   ]
  },
  {
   "cell_type": "markdown",
   "metadata": {},
   "source": [
    "Some descriptive statistics illustrate the differences between `x` and `z`."
   ]
  },
  {
   "cell_type": "code",
   "execution_count": 23,
   "metadata": {},
   "outputs": [
    {
     "data": {
      "text/html": [
       "<div>\n",
       "<style scoped>\n",
       "    .dataframe tbody tr th:only-of-type {\n",
       "        vertical-align: middle;\n",
       "    }\n",
       "\n",
       "    .dataframe tbody tr th {\n",
       "        vertical-align: top;\n",
       "    }\n",
       "\n",
       "    .dataframe thead th {\n",
       "        text-align: right;\n",
       "    }\n",
       "</style>\n",
       "<table border=\"1\" class=\"dataframe\">\n",
       "  <thead>\n",
       "    <tr style=\"text-align: right;\">\n",
       "      <th></th>\n",
       "      <th>raw data</th>\n",
       "      <th>standardized data</th>\n",
       "    </tr>\n",
       "  </thead>\n",
       "  <tbody>\n",
       "    <tr>\n",
       "      <th>min</th>\n",
       "      <td>-5.95140</td>\n",
       "      <td>-8.09684</td>\n",
       "    </tr>\n",
       "    <tr>\n",
       "      <th>max</th>\n",
       "      <td>5.82667</td>\n",
       "      <td>8.02439</td>\n",
       "    </tr>\n",
       "    <tr>\n",
       "      <th>mean</th>\n",
       "      <td>-0.03590</td>\n",
       "      <td>-0.00000</td>\n",
       "    </tr>\n",
       "    <tr>\n",
       "      <th>std dev</th>\n",
       "      <td>0.73059</td>\n",
       "      <td>1.00000</td>\n",
       "    </tr>\n",
       "    <tr>\n",
       "      <th>skewness</th>\n",
       "      <td>0.23993</td>\n",
       "      <td>0.23993</td>\n",
       "    </tr>\n",
       "    <tr>\n",
       "      <th>kurtosis</th>\n",
       "      <td>10.50828</td>\n",
       "      <td>10.50828</td>\n",
       "    </tr>\n",
       "  </tbody>\n",
       "</table>\n",
       "</div>"
      ],
      "text/plain": [
       "          raw data  standardized data\n",
       "min       -5.95140           -8.09684\n",
       "max        5.82667            8.02439\n",
       "mean      -0.03590           -0.00000\n",
       "std dev    0.73059            1.00000\n",
       "skewness   0.23993            0.23993\n",
       "kurtosis  10.50828           10.50828"
      ]
     },
     "execution_count": 23,
     "metadata": {},
     "output_type": "execute_result"
    }
   ],
   "source": [
    "x_des = stats.describe(x)\n",
    "z_des = stats.describe(z)\n",
    "\n",
    "df = pd.DataFrame(data=[[x_des.minmax[0], z_des.minmax[0]],\n",
    "                        [x_des.minmax[1], z_des.minmax[1]],\n",
    "                        [x_des.mean, z_des.mean],\n",
    "                        [np.sqrt(x_des.variance), np.sqrt(z_des.variance)],\n",
    "                        [x_des.skewness, z_des.skewness],\n",
    "                        [x_des.kurtosis, z_des.kurtosis]],\n",
    "                  index=['min', 'max', 'mean', 'std dev', 'skewness', 'kurtosis'],\n",
    "                  columns=['raw data', 'standardized data'])\n",
    "\n",
    "df.round(5)"
   ]
  },
  {
   "cell_type": "markdown",
   "metadata": {},
   "source": [
    "## Kolmogorov-Smirnov\n",
    "<https://docs.scipy.org/doc/scipy/reference/generated/scipy.stats.kstest.html>"
   ]
  },
  {
   "cell_type": "markdown",
   "metadata": {},
   "source": [
    "Perform the KS test on \n",
    "1. `x`,\n",
    "2. `z`, \n",
    "3. `x` specifying the mean and std with the argument `args=(x.mean(), x.std())`."
   ]
  },
  {
   "cell_type": "code",
   "execution_count": 24,
   "metadata": {},
   "outputs": [
    {
     "name": "stdout",
     "output_type": "stream",
     "text": [
      "statistic= 0.1414 | p-value= 0.0000%\n"
     ]
    }
   ],
   "source": [
    "# wrong method\n",
    "res = stats.kstest(x, cdf='norm')\n",
    "print(f'statistic= {res.statistic:.4f} | p-value= {res.pvalue:.4%}')"
   ]
  },
  {
   "cell_type": "code",
   "execution_count": 25,
   "metadata": {},
   "outputs": [
    {
     "name": "stdout",
     "output_type": "stream",
     "text": [
      "statistic= 0.0756 | p-value= 0.0001%\n"
     ]
    }
   ],
   "source": [
    "res = stats.kstest(x, cdf='norm', args=(x.mean(), x.std()))\n",
    "print(f'statistic= {res.statistic:.4f} | p-value= {res.pvalue:.4%}')"
   ]
  },
  {
   "cell_type": "code",
   "execution_count": 26,
   "metadata": {},
   "outputs": [
    {
     "name": "stdout",
     "output_type": "stream",
     "text": [
      "statistic= 0.0756 | p-value= 0.0001%\n"
     ]
    }
   ],
   "source": [
    "res = stats.kstest(x, cdf=stats.norm(x.mean(), x.std()).cdf)\n",
    "print(f'statistic= {res.statistic:.4f} | p-value= {res.pvalue:.4%}')"
   ]
  },
  {
   "cell_type": "code",
   "execution_count": 27,
   "metadata": {},
   "outputs": [
    {
     "name": "stdout",
     "output_type": "stream",
     "text": [
      "statistic= 0.0756 | p-value= 0.0001%\n"
     ]
    }
   ],
   "source": [
    "res = stats.kstest(z, cdf='norm')\n",
    "print(f'statistic= {res.statistic:.4f} | p-value= {res.pvalue:.4%}')"
   ]
  },
  {
   "cell_type": "code",
   "execution_count": 28,
   "metadata": {},
   "outputs": [
    {
     "name": "stdout",
     "output_type": "stream",
     "text": [
      "statistic= 0.0756 | p-value= 0.0001%\n"
     ]
    }
   ],
   "source": [
    "res = stats.kstest(z, cdf=stats.norm().cdf)\n",
    "print(f'statistic= {res.statistic:.4f} | p-value= {res.pvalue:.4%}')"
   ]
  },
  {
   "cell_type": "markdown",
   "metadata": {},
   "source": [
    "KS test is sensitive to the standardization of the data"
   ]
  },
  {
   "cell_type": "markdown",
   "metadata": {},
   "source": [
    "## Anderson-Darling\n",
    "<https://docs.scipy.org/doc/scipy/reference/generated/scipy.stats.anderson.html>"
   ]
  },
  {
   "cell_type": "markdown",
   "metadata": {},
   "source": [
    "Perform the Anderson-Darling test on `x` and `z` for comparison."
   ]
  },
  {
   "cell_type": "code",
   "execution_count": 29,
   "metadata": {},
   "outputs": [
    {
     "name": "stdout",
     "output_type": "stream",
     "text": [
      "statistic: 17.5461\n",
      "critical values:  [0.574 0.654 0.785 0.915 1.089]\n",
      "significance levels:  [15.  10.   5.   2.5  1. ]\n"
     ]
    }
   ],
   "source": [
    "res = stats.anderson(x)\n",
    "print(f'statistic: {res.statistic:.4f}')\n",
    "print('critical values: ', res.critical_values)\n",
    "print('significance levels: ', res.significance_level)"
   ]
  },
  {
   "cell_type": "code",
   "execution_count": 30,
   "metadata": {
    "tags": []
   },
   "outputs": [
    {
     "name": "stdout",
     "output_type": "stream",
     "text": [
      "statistic: 17.5461\n",
      "critical values:  [0.574 0.654 0.785 0.915 1.089]\n",
      "significance levels:  [15.  10.   5.   2.5  1. ]\n"
     ]
    }
   ],
   "source": [
    "res = stats.anderson(z)\n",
    "print(f'statistic: {res.statistic:.4f}')\n",
    "print('critical values: ', res.critical_values)\n",
    "print('significance levels: ', res.significance_level)"
   ]
  },
  {
   "cell_type": "markdown",
   "metadata": {},
   "source": [
    "## Jarque-Bera\n",
    "<https://docs.scipy.org/doc/scipy/reference/generated/scipy.stats.jarque_bera.html>"
   ]
  },
  {
   "cell_type": "markdown",
   "metadata": {},
   "source": [
    "Perform the Jarque-Bera test on `x` and `z` for comparison."
   ]
  },
  {
   "cell_type": "code",
   "execution_count": 31,
   "metadata": {},
   "outputs": [
    {
     "name": "stdout",
     "output_type": "stream",
     "text": [
      "Jarque-Bera test: statistic=5800.13 ; p-value=0.0000\n"
     ]
    }
   ],
   "source": [
    "res = stats.jarque_bera(x)\n",
    "print(f'Jarque-Bera test: statistic={res.statistic:0.2f} ; p-value={res.pvalue:0.4f}')"
   ]
  },
  {
   "cell_type": "code",
   "execution_count": 32,
   "metadata": {},
   "outputs": [
    {
     "name": "stdout",
     "output_type": "stream",
     "text": [
      "Jarque-Bera test: statistic=5800.13 ; p-value=0.0000\n"
     ]
    }
   ],
   "source": [
    "res = stats.jarque_bera(z)\n",
    "print(f'Jarque-Bera test: statistic={res.statistic:0.2f} ; p-value={res.pvalue:0.4f}')"
   ]
  },
  {
   "cell_type": "code",
   "execution_count": null,
   "metadata": {},
   "outputs": [],
   "source": []
  }
 ],
 "metadata": {
  "kernelspec": {
   "display_name": "Python 3 (ipykernel)",
   "language": "python",
   "name": "python3"
  },
  "language_info": {
   "codemirror_mode": {
    "name": "ipython",
    "version": 3
   },
   "file_extension": ".py",
   "mimetype": "text/x-python",
   "name": "python",
   "nbconvert_exporter": "python",
   "pygments_lexer": "ipython3",
   "version": "3.8.17"
  },
  "toc-autonumbering": true,
  "varInspector": {
   "cols": {
    "lenName": 16,
    "lenType": 16,
    "lenVar": 40
   },
   "kernels_config": {
    "python": {
     "delete_cmd_postfix": "",
     "delete_cmd_prefix": "del ",
     "library": "var_list.py",
     "varRefreshCmd": "print(var_dic_list())"
    },
    "r": {
     "delete_cmd_postfix": ") ",
     "delete_cmd_prefix": "rm(",
     "library": "var_list.r",
     "varRefreshCmd": "cat(var_dic_list()) "
    }
   },
   "oldHeight": 248.85000000000002,
   "position": {
    "height": "270.85px",
    "left": "765px",
    "right": "20px",
    "top": "123px",
    "width": "647px"
   },
   "types_to_exclude": [
    "module",
    "function",
    "builtin_function_or_method",
    "instance",
    "_Feature"
   ],
   "varInspector_section_display": "block",
   "window_display": false
  }
 },
 "nbformat": 4,
 "nbformat_minor": 4
}
