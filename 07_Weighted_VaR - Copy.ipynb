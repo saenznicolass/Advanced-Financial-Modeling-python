{
 "cells": [
  {
   "cell_type": "code",
   "execution_count": 1,
   "id": "da00e2f9-cd09-420c-8b03-94a352a2b412",
   "metadata": {},
   "outputs": [],
   "source": [
    "import numpy as np\n",
    "import pandas as pd\n",
    "import matplotlib.pyplot as plt\n",
    "import matplotlib.ticker as mtick"
   ]
  },
  {
   "cell_type": "markdown",
   "id": "0a1925cb-7275-4c98-9856-cd76bcf1e27d",
   "metadata": {},
   "source": [
    "# Load data  \n",
    "Note that `read_excel()` outputs a DataFrame: we keep this structure for further use."
   ]
  },
  {
   "cell_type": "code",
   "execution_count": 2,
   "id": "7d03d702-6a59-4874-b2e8-e3678139506b",
   "metadata": {},
   "outputs": [
    {
     "data": {
      "text/html": [
       "<div>\n",
       "<style scoped>\n",
       "    .dataframe tbody tr th:only-of-type {\n",
       "        vertical-align: middle;\n",
       "    }\n",
       "\n",
       "    .dataframe tbody tr th {\n",
       "        vertical-align: top;\n",
       "    }\n",
       "\n",
       "    .dataframe thead th {\n",
       "        text-align: right;\n",
       "    }\n",
       "</style>\n",
       "<table border=\"1\" class=\"dataframe\">\n",
       "  <thead>\n",
       "    <tr style=\"text-align: right;\">\n",
       "      <th></th>\n",
       "      <th>loss</th>\n",
       "    </tr>\n",
       "    <tr>\n",
       "      <th>Date</th>\n",
       "      <th></th>\n",
       "    </tr>\n",
       "  </thead>\n",
       "  <tbody>\n",
       "    <tr>\n",
       "      <th>2019-01-03</th>\n",
       "      <td>0.701146</td>\n",
       "    </tr>\n",
       "    <tr>\n",
       "      <th>2019-01-04</th>\n",
       "      <td>-1.205288</td>\n",
       "    </tr>\n",
       "    <tr>\n",
       "      <th>2019-01-07</th>\n",
       "      <td>-0.367580</td>\n",
       "    </tr>\n",
       "    <tr>\n",
       "      <th>2019-01-08</th>\n",
       "      <td>-0.279344</td>\n",
       "    </tr>\n",
       "    <tr>\n",
       "      <th>2019-01-09</th>\n",
       "      <td>-0.193142</td>\n",
       "    </tr>\n",
       "    <tr>\n",
       "      <th>...</th>\n",
       "      <td>...</td>\n",
       "    </tr>\n",
       "    <tr>\n",
       "      <th>2023-12-22</th>\n",
       "      <td>-0.219777</td>\n",
       "    </tr>\n",
       "    <tr>\n",
       "      <th>2023-12-26</th>\n",
       "      <td>-0.329805</td>\n",
       "    </tr>\n",
       "    <tr>\n",
       "      <th>2023-12-27</th>\n",
       "      <td>-0.710735</td>\n",
       "    </tr>\n",
       "    <tr>\n",
       "      <th>2023-12-28</th>\n",
       "      <td>0.268532</td>\n",
       "    </tr>\n",
       "    <tr>\n",
       "      <th>2023-12-29</th>\n",
       "      <td>0.282610</td>\n",
       "    </tr>\n",
       "  </tbody>\n",
       "</table>\n",
       "<p>1258 rows × 1 columns</p>\n",
       "</div>"
      ],
      "text/plain": [
       "                loss\n",
       "Date                \n",
       "2019-01-03  0.701146\n",
       "2019-01-04 -1.205288\n",
       "2019-01-07 -0.367580\n",
       "2019-01-08 -0.279344\n",
       "2019-01-09 -0.193142\n",
       "...              ...\n",
       "2023-12-22 -0.219777\n",
       "2023-12-26 -0.329805\n",
       "2023-12-27 -0.710735\n",
       "2023-12-28  0.268532\n",
       "2023-12-29  0.282610\n",
       "\n",
       "[1258 rows x 1 columns]"
      ]
     },
     "execution_count": 2,
     "metadata": {},
     "output_type": "execute_result"
    }
   ],
   "source": [
    "losses = pd.read_excel('Data/losses.xlsx').set_index('Date').rename(columns={0:'loss'}) / 1e6\n",
    "losses"
   ]
  },
  {
   "cell_type": "markdown",
   "id": "f9f8985b-3fca-4356-9f8f-619614626728",
   "metadata": {},
   "source": [
    "Set the confidence level $\\alpha$ for Value-at-Risk computations"
   ]
  },
  {
   "cell_type": "code",
   "execution_count": 3,
   "id": "d650888a-2f5a-4b94-9880-ea25b30532c4",
   "metadata": {},
   "outputs": [],
   "source": [
    "alpha = 0.95"
   ]
  },
  {
   "cell_type": "markdown",
   "id": "f44ee97d-0dcd-4e0f-97d5-92748e6dfde0",
   "metadata": {},
   "source": [
    "# Age-weighted Value-at-Risk"
   ]
  },
  {
   "cell_type": "markdown",
   "id": "dd68a79b-1f1f-4b5e-a104-53e9b58469fd",
   "metadata": {},
   "source": [
    "Compute the age weights using a parameter $\\lambda = 0.975$.\n",
    "$$w_{t-i} = \\frac{\\lambda^{i-1}}{\\Lambda} \\qquad \\Lambda = \\sum_{i=0}^{n-1} \\lambda^{i-1} = \\frac{1-\\lambda^n}{1-\\lambda}$$"
   ]
  },
  {
   "cell_type": "code",
   "execution_count": 4,
   "id": "e98c59d9-4b95-4af2-bc48-43d60f3cc2bf",
   "metadata": {},
   "outputs": [],
   "source": [
    "lam = 0.975\n",
    "n = len(losses)"
   ]
  },
  {
   "cell_type": "code",
   "execution_count": 5,
   "id": "1307ef0b-b92e-4b40-902f-9627134b20e4",
   "metadata": {},
   "outputs": [
    {
     "data": {
      "text/plain": [
       "array([0, 1, 2, 3, 4, 5, 6, 7, 8, 9])"
      ]
     },
     "execution_count": 5,
     "metadata": {},
     "output_type": "execute_result"
    }
   ],
   "source": [
    "np.arange(10)"
   ]
  },
  {
   "cell_type": "code",
   "execution_count": 6,
   "id": "3799b7e2-a30d-4f1e-aa53-8a34033cf74d",
   "metadata": {},
   "outputs": [
    {
     "data": {
      "text/plain": [
       "array([  1,   2,   4,   8,  16,  32,  64, 128, 256, 512])"
      ]
     },
     "execution_count": 6,
     "metadata": {},
     "output_type": "execute_result"
    }
   ],
   "source": [
    "2 ** np.arange(10)"
   ]
  },
  {
   "cell_type": "code",
   "execution_count": 7,
   "id": "9e6ef00e-4a13-4b7e-a0ea-62ea9bf97f13",
   "metadata": {},
   "outputs": [
    {
     "data": {
      "text/plain": [
       "0.5"
      ]
     },
     "execution_count": 7,
     "metadata": {},
     "output_type": "execute_result"
    }
   ],
   "source": [
    "a = 5\n",
    "a /= 10\n",
    "a"
   ]
  },
  {
   "cell_type": "code",
   "execution_count": 9,
   "id": "da6c12e6-5216-4383-b3cc-250f0dfd7958",
   "metadata": {},
   "outputs": [
    {
     "data": {
      "text/plain": [
       "array([2.50000000e-02, 2.43750000e-02, 2.37656250e-02, ...,\n",
       "       3.96947170e-16, 3.87023491e-16, 3.77347904e-16])"
      ]
     },
     "execution_count": 9,
     "metadata": {},
     "output_type": "execute_result"
    }
   ],
   "source": [
    "weights = lam ** np.arange(n)\n",
    "# weights = weights / weights.sum()\n",
    "weights /= weights.sum()\n",
    "weights"
   ]
  },
  {
   "cell_type": "code",
   "execution_count": 10,
   "id": "a6694949-f9a9-4a83-b674-029355f91869",
   "metadata": {},
   "outputs": [
    {
     "data": {
      "text/plain": [
       "1.0000000000000002"
      ]
     },
     "execution_count": 10,
     "metadata": {},
     "output_type": "execute_result"
    }
   ],
   "source": [
    "weights.sum()"
   ]
  },
  {
   "cell_type": "markdown",
   "id": "a53530d0-e8b8-4217-a94c-2ba138109836",
   "metadata": {},
   "source": [
    "The largest weight must be associated to the most recent value. The order of the array must be reversed.  \n",
    "We use [`numpy` **slicing**](https://numpy.org/doc/stable/user/basics.indexing.html#slicing-and-striding)."
   ]
  },
  {
   "cell_type": "code",
   "execution_count": 11,
   "id": "e3f70dbb-280f-462a-a2d1-4f67918c2412",
   "metadata": {},
   "outputs": [
    {
     "data": {
      "text/plain": [
       "array([0, 1, 2, 3, 4, 5, 6, 7, 8, 9])"
      ]
     },
     "execution_count": 11,
     "metadata": {},
     "output_type": "execute_result"
    }
   ],
   "source": [
    "a = np.arange(10)\n",
    "a"
   ]
  },
  {
   "cell_type": "code",
   "execution_count": 12,
   "id": "efae31e7-fc46-42ab-a5e1-1adcffd494e3",
   "metadata": {},
   "outputs": [
    {
     "data": {
      "text/plain": [
       "array([0, 1, 2, 3, 4])"
      ]
     },
     "execution_count": 12,
     "metadata": {},
     "output_type": "execute_result"
    }
   ],
   "source": [
    "a[:5]"
   ]
  },
  {
   "cell_type": "code",
   "execution_count": 13,
   "id": "9be68aac-aeca-4250-a2a5-6c3e4b94f3e1",
   "metadata": {},
   "outputs": [
    {
     "data": {
      "text/plain": [
       "array([5, 6, 7, 8, 9])"
      ]
     },
     "execution_count": 13,
     "metadata": {},
     "output_type": "execute_result"
    }
   ],
   "source": [
    "a[5:]"
   ]
  },
  {
   "cell_type": "code",
   "execution_count": 14,
   "id": "66276862-b91e-47ec-939c-17afc5afd6b3",
   "metadata": {},
   "outputs": [
    {
     "data": {
      "text/plain": [
       "array([3, 4, 5, 6])"
      ]
     },
     "execution_count": 14,
     "metadata": {},
     "output_type": "execute_result"
    }
   ],
   "source": [
    "a[3:7]"
   ]
  },
  {
   "cell_type": "code",
   "execution_count": 15,
   "id": "3b877fd4-ff7b-4c10-883c-260b1c3c2585",
   "metadata": {},
   "outputs": [
    {
     "data": {
      "text/plain": [
       "array([3, 5])"
      ]
     },
     "execution_count": 15,
     "metadata": {},
     "output_type": "execute_result"
    }
   ],
   "source": [
    "a[3:7:2]"
   ]
  },
  {
   "cell_type": "code",
   "execution_count": 16,
   "id": "92b4e827-74f1-4b24-b369-1da805b0e77a",
   "metadata": {},
   "outputs": [
    {
     "data": {
      "text/plain": [
       "array([0, 2, 4, 6, 8])"
      ]
     },
     "execution_count": 16,
     "metadata": {},
     "output_type": "execute_result"
    }
   ],
   "source": [
    "a[::2]"
   ]
  },
  {
   "cell_type": "code",
   "execution_count": 17,
   "id": "f757c19b-d30e-4a5a-abc0-7ef6767a5ae9",
   "metadata": {},
   "outputs": [
    {
     "data": {
      "text/plain": [
       "array([0, 3, 6, 9])"
      ]
     },
     "execution_count": 17,
     "metadata": {},
     "output_type": "execute_result"
    }
   ],
   "source": [
    "a[::3]"
   ]
  },
  {
   "cell_type": "code",
   "execution_count": 18,
   "id": "2917d657-5b89-4323-9e04-4024de10a424",
   "metadata": {},
   "outputs": [
    {
     "data": {
      "text/plain": [
       "array([8, 9])"
      ]
     },
     "execution_count": 18,
     "metadata": {},
     "output_type": "execute_result"
    }
   ],
   "source": [
    "a[-2:]"
   ]
  },
  {
   "cell_type": "code",
   "execution_count": 19,
   "id": "1e0b7555-db3d-47d0-87d2-f4103b8d4873",
   "metadata": {},
   "outputs": [
    {
     "data": {
      "text/plain": [
       "array([9, 8, 7, 6, 5, 4, 3, 2, 1, 0])"
      ]
     },
     "execution_count": 19,
     "metadata": {},
     "output_type": "execute_result"
    }
   ],
   "source": [
    "a[::-1]"
   ]
  },
  {
   "cell_type": "code",
   "execution_count": 20,
   "id": "c68d5072-ce9f-4a25-9dab-c1e3eccc4e8d",
   "metadata": {},
   "outputs": [
    {
     "data": {
      "image/png": "[encoded data removed]",
      "text/plain": [
       "<Figure size 1000x400 with 1 Axes>"
      ]
     },
     "metadata": {},
     "output_type": "display_data"
    }
   ],
   "source": [
    "fig, ax = plt.subplots(figsize=(10, 4))\n",
    "ax.plot(weights, label=\"initial order\")\n",
    "ax.plot(weights[::-1], label=\"reversed order\")\n",
    "lgd = ax.legend()"
   ]
  },
  {
   "cell_type": "markdown",
   "id": "4f5d70af-6bad-490d-92f2-531de2f390f0",
   "metadata": {},
   "source": [
    "Add a colum `'age_weight'` to the DataFrame `losses`"
   ]
  },
  {
   "cell_type": "code",
   "execution_count": 21,
   "id": "562f0fda-1f94-4b5e-b948-8f923d0b7a9e",
   "metadata": {},
   "outputs": [
    {
     "data": {
      "text/html": [
       "<div>\n",
       "<style scoped>\n",
       "    .dataframe tbody tr th:only-of-type {\n",
       "        vertical-align: middle;\n",
       "    }\n",
       "\n",
       "    .dataframe tbody tr th {\n",
       "        vertical-align: top;\n",
       "    }\n",
       "\n",
       "    .dataframe thead th {\n",
       "        text-align: right;\n",
       "    }\n",
       "</style>\n",
       "<table border=\"1\" class=\"dataframe\">\n",
       "  <thead>\n",
       "    <tr style=\"text-align: right;\">\n",
       "      <th></th>\n",
       "      <th>loss</th>\n",
       "    </tr>\n",
       "    <tr>\n",
       "      <th>Date</th>\n",
       "      <th></th>\n",
       "    </tr>\n",
       "  </thead>\n",
       "  <tbody>\n",
       "    <tr>\n",
       "      <th>2019-01-03</th>\n",
       "      <td>0.701146</td>\n",
       "    </tr>\n",
       "    <tr>\n",
       "      <th>2019-01-04</th>\n",
       "      <td>-1.205288</td>\n",
       "    </tr>\n",
       "    <tr>\n",
       "      <th>2019-01-07</th>\n",
       "      <td>-0.367580</td>\n",
       "    </tr>\n",
       "    <tr>\n",
       "      <th>2019-01-08</th>\n",
       "      <td>-0.279344</td>\n",
       "    </tr>\n",
       "    <tr>\n",
       "      <th>2019-01-09</th>\n",
       "      <td>-0.193142</td>\n",
       "    </tr>\n",
       "  </tbody>\n",
       "</table>\n",
       "</div>"
      ],
      "text/plain": [
       "                loss\n",
       "Date                \n",
       "2019-01-03  0.701146\n",
       "2019-01-04 -1.205288\n",
       "2019-01-07 -0.367580\n",
       "2019-01-08 -0.279344\n",
       "2019-01-09 -0.193142"
      ]
     },
     "execution_count": 21,
     "metadata": {},
     "output_type": "execute_result"
    }
   ],
   "source": [
    "losses.head()"
   ]
  },
  {
   "cell_type": "code",
   "execution_count": 22,
   "id": "1be39c38-bad5-4dc3-a2dd-31b7c7552dff",
   "metadata": {},
   "outputs": [
    {
     "data": {
      "text/html": [
       "<div>\n",
       "<style scoped>\n",
       "    .dataframe tbody tr th:only-of-type {\n",
       "        vertical-align: middle;\n",
       "    }\n",
       "\n",
       "    .dataframe tbody tr th {\n",
       "        vertical-align: top;\n",
       "    }\n",
       "\n",
       "    .dataframe thead th {\n",
       "        text-align: right;\n",
       "    }\n",
       "</style>\n",
       "<table border=\"1\" class=\"dataframe\">\n",
       "  <thead>\n",
       "    <tr style=\"text-align: right;\">\n",
       "      <th></th>\n",
       "      <th>loss</th>\n",
       "      <th>age_weight</th>\n",
       "    </tr>\n",
       "    <tr>\n",
       "      <th>Date</th>\n",
       "      <th></th>\n",
       "      <th></th>\n",
       "    </tr>\n",
       "  </thead>\n",
       "  <tbody>\n",
       "    <tr>\n",
       "      <th>2019-01-03</th>\n",
       "      <td>0.701146</td>\n",
       "      <td>3.773479e-16</td>\n",
       "    </tr>\n",
       "    <tr>\n",
       "      <th>2019-01-04</th>\n",
       "      <td>-1.205288</td>\n",
       "      <td>3.870235e-16</td>\n",
       "    </tr>\n",
       "    <tr>\n",
       "      <th>2019-01-07</th>\n",
       "      <td>-0.367580</td>\n",
       "      <td>3.969472e-16</td>\n",
       "    </tr>\n",
       "    <tr>\n",
       "      <th>2019-01-08</th>\n",
       "      <td>-0.279344</td>\n",
       "      <td>4.071253e-16</td>\n",
       "    </tr>\n",
       "    <tr>\n",
       "      <th>2019-01-09</th>\n",
       "      <td>-0.193142</td>\n",
       "      <td>4.175644e-16</td>\n",
       "    </tr>\n",
       "  </tbody>\n",
       "</table>\n",
       "</div>"
      ],
      "text/plain": [
       "                loss    age_weight\n",
       "Date                              \n",
       "2019-01-03  0.701146  3.773479e-16\n",
       "2019-01-04 -1.205288  3.870235e-16\n",
       "2019-01-07 -0.367580  3.969472e-16\n",
       "2019-01-08 -0.279344  4.071253e-16\n",
       "2019-01-09 -0.193142  4.175644e-16"
      ]
     },
     "execution_count": 22,
     "metadata": {},
     "output_type": "execute_result"
    }
   ],
   "source": [
    "losses['age_weight'] = weights[::-1]\n",
    "losses.head()"
   ]
  },
  {
   "cell_type": "code",
   "execution_count": 23,
   "id": "103fddac-e32c-47d4-bbe2-dc9a354087c9",
   "metadata": {},
   "outputs": [
    {
     "data": {
      "text/html": [
       "<div>\n",
       "<style scoped>\n",
       "    .dataframe tbody tr th:only-of-type {\n",
       "        vertical-align: middle;\n",
       "    }\n",
       "\n",
       "    .dataframe tbody tr th {\n",
       "        vertical-align: top;\n",
       "    }\n",
       "\n",
       "    .dataframe thead th {\n",
       "        text-align: right;\n",
       "    }\n",
       "</style>\n",
       "<table border=\"1\" class=\"dataframe\">\n",
       "  <thead>\n",
       "    <tr style=\"text-align: right;\">\n",
       "      <th></th>\n",
       "      <th>loss</th>\n",
       "      <th>age_weight</th>\n",
       "    </tr>\n",
       "    <tr>\n",
       "      <th>Date</th>\n",
       "      <th></th>\n",
       "      <th></th>\n",
       "    </tr>\n",
       "  </thead>\n",
       "  <tbody>\n",
       "    <tr>\n",
       "      <th>2023-12-22</th>\n",
       "      <td>-0.219777</td>\n",
       "      <td>0.022592</td>\n",
       "    </tr>\n",
       "    <tr>\n",
       "      <th>2023-12-26</th>\n",
       "      <td>-0.329805</td>\n",
       "      <td>0.023171</td>\n",
       "    </tr>\n",
       "    <tr>\n",
       "      <th>2023-12-27</th>\n",
       "      <td>-0.710735</td>\n",
       "      <td>0.023766</td>\n",
       "    </tr>\n",
       "    <tr>\n",
       "      <th>2023-12-28</th>\n",
       "      <td>0.268532</td>\n",
       "      <td>0.024375</td>\n",
       "    </tr>\n",
       "    <tr>\n",
       "      <th>2023-12-29</th>\n",
       "      <td>0.282610</td>\n",
       "      <td>0.025000</td>\n",
       "    </tr>\n",
       "  </tbody>\n",
       "</table>\n",
       "</div>"
      ],
      "text/plain": [
       "                loss  age_weight\n",
       "Date                            \n",
       "2023-12-22 -0.219777    0.022592\n",
       "2023-12-26 -0.329805    0.023171\n",
       "2023-12-27 -0.710735    0.023766\n",
       "2023-12-28  0.268532    0.024375\n",
       "2023-12-29  0.282610    0.025000"
      ]
     },
     "execution_count": 23,
     "metadata": {},
     "output_type": "execute_result"
    }
   ],
   "source": [
    "losses.tail()"
   ]
  },
  {
   "cell_type": "markdown",
   "id": "90bf7d65-a6d8-484e-a48c-a797e1299f70",
   "metadata": {},
   "source": [
    "Sort the DataFrame by **descending** `loss` values. See [`DataFrame.sort_values()`](https://pandas.pydata.org/docs/reference/api/pandas.DataFrame.sort_values.html)"
   ]
  },
  {
   "cell_type": "code",
   "execution_count": 24,
   "id": "f074f2a6-4cd3-49aa-8937-e98149615a4d",
   "metadata": {},
   "outputs": [
    {
     "data": {
      "text/html": [
       "<div>\n",
       "<style scoped>\n",
       "    .dataframe tbody tr th:only-of-type {\n",
       "        vertical-align: middle;\n",
       "    }\n",
       "\n",
       "    .dataframe tbody tr th {\n",
       "        vertical-align: top;\n",
       "    }\n",
       "\n",
       "    .dataframe thead th {\n",
       "        text-align: right;\n",
       "    }\n",
       "</style>\n",
       "<table border=\"1\" class=\"dataframe\">\n",
       "  <thead>\n",
       "    <tr style=\"text-align: right;\">\n",
       "      <th></th>\n",
       "      <th>loss</th>\n",
       "      <th>age_weight</th>\n",
       "    </tr>\n",
       "    <tr>\n",
       "      <th>Date</th>\n",
       "      <th></th>\n",
       "      <th></th>\n",
       "    </tr>\n",
       "  </thead>\n",
       "  <tbody>\n",
       "    <tr>\n",
       "      <th>2020-03-12</th>\n",
       "      <td>5.826666</td>\n",
       "      <td>7.317485e-13</td>\n",
       "    </tr>\n",
       "    <tr>\n",
       "      <th>2020-03-16</th>\n",
       "      <td>4.838571</td>\n",
       "      <td>7.697552e-13</td>\n",
       "    </tr>\n",
       "    <tr>\n",
       "      <th>2020-03-18</th>\n",
       "      <td>3.237599</td>\n",
       "      <td>8.097359e-13</td>\n",
       "    </tr>\n",
       "    <tr>\n",
       "      <th>2022-06-13</th>\n",
       "      <td>3.041510</td>\n",
       "      <td>1.287479e-06</td>\n",
       "    </tr>\n",
       "    <tr>\n",
       "      <th>2020-03-23</th>\n",
       "      <td>2.945105</td>\n",
       "      <td>8.736340e-13</td>\n",
       "    </tr>\n",
       "  </tbody>\n",
       "</table>\n",
       "</div>"
      ],
      "text/plain": [
       "                loss    age_weight\n",
       "Date                              \n",
       "2020-03-12  5.826666  7.317485e-13\n",
       "2020-03-16  4.838571  7.697552e-13\n",
       "2020-03-18  3.237599  8.097359e-13\n",
       "2022-06-13  3.041510  1.287479e-06\n",
       "2020-03-23  2.945105  8.736340e-13"
      ]
     },
     "execution_count": 24,
     "metadata": {},
     "output_type": "execute_result"
    }
   ],
   "source": [
    "losses.sort_values(by='loss', ascending=False, inplace=True)\n",
    "losses.head()"
   ]
  },
  {
   "cell_type": "markdown",
   "id": "0d730969-437c-4d00-9d13-250a5abde6d9",
   "metadata": {},
   "source": [
    "Add the [cumulative sum](https://pandas.pydata.org/docs/reference/api/pandas.Series.cumsum.html) of the age weights"
   ]
  },
  {
   "cell_type": "code",
   "execution_count": 25,
   "id": "fb0ddc6b-d5c4-4da3-9fa3-4e67fcc23177",
   "metadata": {},
   "outputs": [
    {
     "data": {
      "text/plain": [
       "array([0, 1, 2, 3, 4, 5, 6, 7, 8, 9])"
      ]
     },
     "execution_count": 25,
     "metadata": {},
     "output_type": "execute_result"
    }
   ],
   "source": [
    "a"
   ]
  },
  {
   "cell_type": "code",
   "execution_count": 26,
   "id": "431029d4-0c10-4ad5-8c7c-fe06f68a238e",
   "metadata": {},
   "outputs": [
    {
     "data": {
      "text/plain": [
       "array([ 0,  1,  3,  6, 10, 15, 21, 28, 36, 45])"
      ]
     },
     "execution_count": 26,
     "metadata": {},
     "output_type": "execute_result"
    }
   ],
   "source": [
    "np.cumsum(a)"
   ]
  },
  {
   "cell_type": "code",
   "execution_count": 27,
   "id": "926835d6-688f-4d5b-af44-78f8b20d55e5",
   "metadata": {},
   "outputs": [
    {
     "data": {
      "text/html": [
       "<div>\n",
       "<style scoped>\n",
       "    .dataframe tbody tr th:only-of-type {\n",
       "        vertical-align: middle;\n",
       "    }\n",
       "\n",
       "    .dataframe tbody tr th {\n",
       "        vertical-align: top;\n",
       "    }\n",
       "\n",
       "    .dataframe thead th {\n",
       "        text-align: right;\n",
       "    }\n",
       "</style>\n",
       "<table border=\"1\" class=\"dataframe\">\n",
       "  <thead>\n",
       "    <tr style=\"text-align: right;\">\n",
       "      <th></th>\n",
       "      <th>loss</th>\n",
       "      <th>age_weight</th>\n",
       "      <th>sum_age_weights</th>\n",
       "    </tr>\n",
       "    <tr>\n",
       "      <th>Date</th>\n",
       "      <th></th>\n",
       "      <th></th>\n",
       "      <th></th>\n",
       "    </tr>\n",
       "  </thead>\n",
       "  <tbody>\n",
       "    <tr>\n",
       "      <th>2020-03-12</th>\n",
       "      <td>5.826666</td>\n",
       "      <td>7.317485e-13</td>\n",
       "      <td>7.317485e-13</td>\n",
       "    </tr>\n",
       "    <tr>\n",
       "      <th>2020-03-16</th>\n",
       "      <td>4.838571</td>\n",
       "      <td>7.697552e-13</td>\n",
       "      <td>1.501504e-12</td>\n",
       "    </tr>\n",
       "    <tr>\n",
       "      <th>2020-03-18</th>\n",
       "      <td>3.237599</td>\n",
       "      <td>8.097359e-13</td>\n",
       "      <td>2.311240e-12</td>\n",
       "    </tr>\n",
       "    <tr>\n",
       "      <th>2022-06-13</th>\n",
       "      <td>3.041510</td>\n",
       "      <td>1.287479e-06</td>\n",
       "      <td>1.287481e-06</td>\n",
       "    </tr>\n",
       "    <tr>\n",
       "      <th>2020-03-23</th>\n",
       "      <td>2.945105</td>\n",
       "      <td>8.736340e-13</td>\n",
       "      <td>1.287482e-06</td>\n",
       "    </tr>\n",
       "  </tbody>\n",
       "</table>\n",
       "</div>"
      ],
      "text/plain": [
       "                loss    age_weight  sum_age_weights\n",
       "Date                                               \n",
       "2020-03-12  5.826666  7.317485e-13     7.317485e-13\n",
       "2020-03-16  4.838571  7.697552e-13     1.501504e-12\n",
       "2020-03-18  3.237599  8.097359e-13     2.311240e-12\n",
       "2022-06-13  3.041510  1.287479e-06     1.287481e-06\n",
       "2020-03-23  2.945105  8.736340e-13     1.287482e-06"
      ]
     },
     "execution_count": 27,
     "metadata": {},
     "output_type": "execute_result"
    }
   ],
   "source": [
    "losses['sum_age_weights'] = losses['age_weight'].cumsum()\n",
    "losses.head()"
   ]
  },
  {
   "cell_type": "markdown",
   "id": "9c103df7-6a41-4d82-8911-9b0a071b1dfd",
   "metadata": {},
   "source": [
    "Find the point where the sum of the age weights is greater than $1-\\alpha$."
   ]
  },
  {
   "cell_type": "code",
   "execution_count": 28,
   "id": "a3ce34b1-4c54-4a02-833c-49dd7dc474ab",
   "metadata": {},
   "outputs": [
    {
     "data": {
      "text/plain": [
       "array([0, 1, 2, 3, 4, 5, 6, 7, 8, 9])"
      ]
     },
     "execution_count": 28,
     "metadata": {},
     "output_type": "execute_result"
    }
   ],
   "source": [
    "a"
   ]
  },
  {
   "cell_type": "code",
   "execution_count": 29,
   "id": "c821ecf8-2b51-4822-89c1-8bba8cb78a52",
   "metadata": {},
   "outputs": [
    {
     "data": {
      "text/plain": [
       "array([False, False, False, False, False,  True,  True,  True,  True,\n",
       "        True])"
      ]
     },
     "execution_count": 29,
     "metadata": {},
     "output_type": "execute_result"
    }
   ],
   "source": [
    "a >= 5"
   ]
  },
  {
   "cell_type": "code",
   "execution_count": 30,
   "id": "36255f4e-1135-406c-8d78-3dc1f44e2828",
   "metadata": {},
   "outputs": [
    {
     "data": {
      "text/plain": [
       "array([5, 6, 7, 8, 9])"
      ]
     },
     "execution_count": 30,
     "metadata": {},
     "output_type": "execute_result"
    }
   ],
   "source": [
    "a[a >= 5]"
   ]
  },
  {
   "cell_type": "code",
   "execution_count": 31,
   "id": "4eef9b5e-6708-4c2e-b307-bc9d1c5c8d40",
   "metadata": {},
   "outputs": [
    {
     "data": {
      "text/plain": [
       "array([False, False, False,  True,  True,  True,  True,  True, False,\n",
       "       False])"
      ]
     },
     "execution_count": 31,
     "metadata": {},
     "output_type": "execute_result"
    }
   ],
   "source": [
    "(a >= 3) & (a <=7)"
   ]
  },
  {
   "cell_type": "code",
   "execution_count": 32,
   "id": "2469f0d3-a301-43c5-a0f0-b3966de331d7",
   "metadata": {},
   "outputs": [
    {
     "data": {
      "text/plain": [
       "array([3, 4, 5, 6, 7])"
      ]
     },
     "execution_count": 32,
     "metadata": {},
     "output_type": "execute_result"
    }
   ],
   "source": [
    "a[(a >= 3) & (a <=7)]"
   ]
  },
  {
   "cell_type": "code",
   "execution_count": 33,
   "id": "a3cba316-be81-45c4-afaa-8290d0c2c453",
   "metadata": {},
   "outputs": [
    {
     "data": {
      "text/plain": [
       "array([0, 1, 2, 3, 8, 9])"
      ]
     },
     "execution_count": 33,
     "metadata": {},
     "output_type": "execute_result"
    }
   ],
   "source": [
    "a[(a <= 3) | (a > 7)]"
   ]
  },
  {
   "cell_type": "code",
   "execution_count": 34,
   "id": "12c264eb-47f0-4be7-8cc9-4a17d28da77e",
   "metadata": {},
   "outputs": [
    {
     "data": {
      "text/html": [
       "<div>\n",
       "<style scoped>\n",
       "    .dataframe tbody tr th:only-of-type {\n",
       "        vertical-align: middle;\n",
       "    }\n",
       "\n",
       "    .dataframe tbody tr th {\n",
       "        vertical-align: top;\n",
       "    }\n",
       "\n",
       "    .dataframe thead th {\n",
       "        text-align: right;\n",
       "    }\n",
       "</style>\n",
       "<table border=\"1\" class=\"dataframe\">\n",
       "  <thead>\n",
       "    <tr style=\"text-align: right;\">\n",
       "      <th></th>\n",
       "      <th>loss</th>\n",
       "      <th>age_weight</th>\n",
       "      <th>sum_age_weights</th>\n",
       "    </tr>\n",
       "    <tr>\n",
       "      <th>Date</th>\n",
       "      <th></th>\n",
       "      <th></th>\n",
       "      <th></th>\n",
       "    </tr>\n",
       "  </thead>\n",
       "  <tbody>\n",
       "    <tr>\n",
       "      <th>2023-07-06</th>\n",
       "      <td>0.815295</td>\n",
       "      <td>1.082711e-03</td>\n",
       "      <td>0.049046</td>\n",
       "    </tr>\n",
       "    <tr>\n",
       "      <th>2022-09-21</th>\n",
       "      <td>0.813908</td>\n",
       "      <td>7.386210e-06</td>\n",
       "      <td>0.049053</td>\n",
       "    </tr>\n",
       "    <tr>\n",
       "      <th>2020-04-20</th>\n",
       "      <td>0.813522</td>\n",
       "      <td>1.413324e-12</td>\n",
       "      <td>0.049053</td>\n",
       "    </tr>\n",
       "    <tr>\n",
       "      <th>2023-08-15</th>\n",
       "      <td>0.809390</td>\n",
       "      <td>2.199800e-03</td>\n",
       "      <td>0.051253</td>\n",
       "    </tr>\n",
       "    <tr>\n",
       "      <th>2019-12-02</th>\n",
       "      <td>0.807644</td>\n",
       "      <td>1.275500e-13</td>\n",
       "      <td>0.051253</td>\n",
       "    </tr>\n",
       "  </tbody>\n",
       "</table>\n",
       "</div>"
      ],
      "text/plain": [
       "                loss    age_weight  sum_age_weights\n",
       "Date                                               \n",
       "2023-07-06  0.815295  1.082711e-03         0.049046\n",
       "2022-09-21  0.813908  7.386210e-06         0.049053\n",
       "2020-04-20  0.813522  1.413324e-12         0.049053\n",
       "2023-08-15  0.809390  2.199800e-03         0.051253\n",
       "2019-12-02  0.807644  1.275500e-13         0.051253"
      ]
     },
     "execution_count": 34,
     "metadata": {},
     "output_type": "execute_result"
    }
   ],
   "source": [
    "losses[(losses['sum_age_weights'] > 0.048) & (losses['sum_age_weights'] < 0.052)]"
   ]
  },
  {
   "cell_type": "code",
   "execution_count": 35,
   "id": "c312526c-1bb9-45a5-9aa7-1f3fcdcc5fff",
   "metadata": {},
   "outputs": [
    {
     "data": {
      "text/html": [
       "<div>\n",
       "<style scoped>\n",
       "    .dataframe tbody tr th:only-of-type {\n",
       "        vertical-align: middle;\n",
       "    }\n",
       "\n",
       "    .dataframe tbody tr th {\n",
       "        vertical-align: top;\n",
       "    }\n",
       "\n",
       "    .dataframe thead th {\n",
       "        text-align: right;\n",
       "    }\n",
       "</style>\n",
       "<table border=\"1\" class=\"dataframe\">\n",
       "  <thead>\n",
       "    <tr style=\"text-align: right;\">\n",
       "      <th></th>\n",
       "      <th>loss</th>\n",
       "      <th>sum_age_weights</th>\n",
       "    </tr>\n",
       "    <tr>\n",
       "      <th>Date</th>\n",
       "      <th></th>\n",
       "      <th></th>\n",
       "    </tr>\n",
       "  </thead>\n",
       "  <tbody>\n",
       "    <tr>\n",
       "      <th>2020-03-12</th>\n",
       "      <td>5.826666</td>\n",
       "      <td>7.317485e-13</td>\n",
       "    </tr>\n",
       "    <tr>\n",
       "      <th>2020-03-16</th>\n",
       "      <td>4.838571</td>\n",
       "      <td>1.501504e-12</td>\n",
       "    </tr>\n",
       "    <tr>\n",
       "      <th>2020-03-18</th>\n",
       "      <td>3.237599</td>\n",
       "      <td>2.311240e-12</td>\n",
       "    </tr>\n",
       "    <tr>\n",
       "      <th>2020-03-23</th>\n",
       "      <td>2.945105</td>\n",
       "      <td>1.287482e-06</td>\n",
       "    </tr>\n",
       "    <tr>\n",
       "      <th>2020-03-09</th>\n",
       "      <td>2.614186</td>\n",
       "      <td>1.287483e-06</td>\n",
       "    </tr>\n",
       "    <tr>\n",
       "      <th>...</th>\n",
       "      <td>...</td>\n",
       "      <td>...</td>\n",
       "    </tr>\n",
       "    <tr>\n",
       "      <th>2020-03-02</th>\n",
       "      <td>-2.439843</td>\n",
       "      <td>9.999816e-01</td>\n",
       "    </tr>\n",
       "    <tr>\n",
       "      <th>2020-03-26</th>\n",
       "      <td>-3.139109</td>\n",
       "      <td>9.999816e-01</td>\n",
       "    </tr>\n",
       "    <tr>\n",
       "      <th>2020-03-13</th>\n",
       "      <td>-3.285926</td>\n",
       "      <td>9.999816e-01</td>\n",
       "    </tr>\n",
       "    <tr>\n",
       "      <th>2020-04-06</th>\n",
       "      <td>-3.458908</td>\n",
       "      <td>9.999816e-01</td>\n",
       "    </tr>\n",
       "    <tr>\n",
       "      <th>2020-03-24</th>\n",
       "      <td>-5.951403</td>\n",
       "      <td>1.000000e+00</td>\n",
       "    </tr>\n",
       "  </tbody>\n",
       "</table>\n",
       "<p>253 rows × 2 columns</p>\n",
       "</div>"
      ],
      "text/plain": [
       "                loss  sum_age_weights\n",
       "Date                                 \n",
       "2020-03-12  5.826666     7.317485e-13\n",
       "2020-03-16  4.838571     1.501504e-12\n",
       "2020-03-18  3.237599     2.311240e-12\n",
       "2020-03-23  2.945105     1.287482e-06\n",
       "2020-03-09  2.614186     1.287483e-06\n",
       "...              ...              ...\n",
       "2020-03-02 -2.439843     9.999816e-01\n",
       "2020-03-26 -3.139109     9.999816e-01\n",
       "2020-03-13 -3.285926     9.999816e-01\n",
       "2020-04-06 -3.458908     9.999816e-01\n",
       "2020-03-24 -5.951403     1.000000e+00\n",
       "\n",
       "[253 rows x 2 columns]"
      ]
     },
     "execution_count": 35,
     "metadata": {},
     "output_type": "execute_result"
    }
   ],
   "source": [
    "losses.loc['2020', ['loss', 'sum_age_weights']]"
   ]
  },
  {
   "cell_type": "code",
   "execution_count": 36,
   "id": "57f4a5a5-1c63-4af5-a988-8e61131bb780",
   "metadata": {},
   "outputs": [
    {
     "name": "stdout",
     "output_type": "stream",
     "text": [
      "The age-weighted VaR at 95.0% confidence level is 0.814 m€\n"
     ]
    }
   ],
   "source": [
    "VaR_age_weight = losses.loc['2020-04-20', 'loss']\n",
    "print(f\"The age-weighted VaR at {alpha:.1%} confidence level is {VaR_age_weight:.3f} m€\")"
   ]
  },
  {
   "cell_type": "markdown",
   "id": "ec513d50-d253-4f17-9d8f-5596a0a223f2",
   "metadata": {},
   "source": [
    "# Volatility weighted"
   ]
  },
  {
   "cell_type": "markdown",
   "id": "7578541b-95f3-44c5-9b3e-a6ed810b9c14",
   "metadata": {},
   "source": [
    "We now load the portfolio returns"
   ]
  },
  {
   "cell_type": "code",
   "execution_count": 37,
   "id": "63494876-4b72-4303-a472-99f1b5c8de73",
   "metadata": {},
   "outputs": [
    {
     "data": {
      "text/html": [
       "<div>\n",
       "<style scoped>\n",
       "    .dataframe tbody tr th:only-of-type {\n",
       "        vertical-align: middle;\n",
       "    }\n",
       "\n",
       "    .dataframe tbody tr th {\n",
       "        vertical-align: top;\n",
       "    }\n",
       "\n",
       "    .dataframe thead th {\n",
       "        text-align: right;\n",
       "    }\n",
       "</style>\n",
       "<table border=\"1\" class=\"dataframe\">\n",
       "  <thead>\n",
       "    <tr style=\"text-align: right;\">\n",
       "      <th></th>\n",
       "      <th>ret</th>\n",
       "    </tr>\n",
       "    <tr>\n",
       "      <th>Date</th>\n",
       "      <th></th>\n",
       "    </tr>\n",
       "  </thead>\n",
       "  <tbody>\n",
       "    <tr>\n",
       "      <th>2019-01-03</th>\n",
       "      <td>-0.007011</td>\n",
       "    </tr>\n",
       "    <tr>\n",
       "      <th>2019-01-04</th>\n",
       "      <td>0.012053</td>\n",
       "    </tr>\n",
       "    <tr>\n",
       "      <th>2019-01-07</th>\n",
       "      <td>0.003676</td>\n",
       "    </tr>\n",
       "    <tr>\n",
       "      <th>2019-01-08</th>\n",
       "      <td>0.002793</td>\n",
       "    </tr>\n",
       "    <tr>\n",
       "      <th>2019-01-09</th>\n",
       "      <td>0.001931</td>\n",
       "    </tr>\n",
       "  </tbody>\n",
       "</table>\n",
       "</div>"
      ],
      "text/plain": [
       "                 ret\n",
       "Date                \n",
       "2019-01-03 -0.007011\n",
       "2019-01-04  0.012053\n",
       "2019-01-07  0.003676\n",
       "2019-01-08  0.002793\n",
       "2019-01-09  0.001931"
      ]
     },
     "execution_count": 37,
     "metadata": {},
     "output_type": "execute_result"
    }
   ],
   "source": [
    "returns = pd.read_excel('Data/portf_returns.xlsx').set_index('Date').rename(columns={0: 'ret'})\n",
    "returns.head()"
   ]
  },
  {
   "cell_type": "markdown",
   "id": "4a5adba0-a5a3-4e52-ab03-086f0244a62d",
   "metadata": {},
   "source": [
    "## Using rolling volatility"
   ]
  },
  {
   "cell_type": "markdown",
   "id": "5fa9ede7-fb14-4bd9-8a81-d6d353f50bf7",
   "metadata": {},
   "source": [
    "Compute the [rolling standard deviation](https://pandas.pydata.org/docs/reference/api/pandas.DataFrame.rolling.html) over a window of 65 business days and save as a new column."
   ]
  },
  {
   "cell_type": "code",
   "execution_count": 38,
   "id": "150adfd9-7835-4602-9230-2605b708ffa8",
   "metadata": {},
   "outputs": [
    {
     "data": {
      "text/html": [
       "<div>\n",
       "<style scoped>\n",
       "    .dataframe tbody tr th:only-of-type {\n",
       "        vertical-align: middle;\n",
       "    }\n",
       "\n",
       "    .dataframe tbody tr th {\n",
       "        vertical-align: top;\n",
       "    }\n",
       "\n",
       "    .dataframe thead th {\n",
       "        text-align: right;\n",
       "    }\n",
       "</style>\n",
       "<table border=\"1\" class=\"dataframe\">\n",
       "  <thead>\n",
       "    <tr style=\"text-align: right;\">\n",
       "      <th></th>\n",
       "      <th>ret</th>\n",
       "      <th>rolling_std</th>\n",
       "    </tr>\n",
       "    <tr>\n",
       "      <th>Date</th>\n",
       "      <th></th>\n",
       "      <th></th>\n",
       "    </tr>\n",
       "  </thead>\n",
       "  <tbody>\n",
       "    <tr>\n",
       "      <th>2019-01-03</th>\n",
       "      <td>-0.007011</td>\n",
       "      <td>NaN</td>\n",
       "    </tr>\n",
       "    <tr>\n",
       "      <th>2019-01-04</th>\n",
       "      <td>0.012053</td>\n",
       "      <td>NaN</td>\n",
       "    </tr>\n",
       "    <tr>\n",
       "      <th>2019-01-07</th>\n",
       "      <td>0.003676</td>\n",
       "      <td>NaN</td>\n",
       "    </tr>\n",
       "    <tr>\n",
       "      <th>2019-01-08</th>\n",
       "      <td>0.002793</td>\n",
       "      <td>NaN</td>\n",
       "    </tr>\n",
       "    <tr>\n",
       "      <th>2019-01-09</th>\n",
       "      <td>0.001931</td>\n",
       "      <td>NaN</td>\n",
       "    </tr>\n",
       "    <tr>\n",
       "      <th>...</th>\n",
       "      <td>...</td>\n",
       "      <td>...</td>\n",
       "    </tr>\n",
       "    <tr>\n",
       "      <th>2023-12-22</th>\n",
       "      <td>0.002198</td>\n",
       "      <td>0.006159</td>\n",
       "    </tr>\n",
       "    <tr>\n",
       "      <th>2023-12-26</th>\n",
       "      <td>0.003298</td>\n",
       "      <td>0.006126</td>\n",
       "    </tr>\n",
       "    <tr>\n",
       "      <th>2023-12-27</th>\n",
       "      <td>0.007107</td>\n",
       "      <td>0.005989</td>\n",
       "    </tr>\n",
       "    <tr>\n",
       "      <th>2023-12-28</th>\n",
       "      <td>-0.002685</td>\n",
       "      <td>0.005947</td>\n",
       "    </tr>\n",
       "    <tr>\n",
       "      <th>2023-12-29</th>\n",
       "      <td>-0.002826</td>\n",
       "      <td>0.005974</td>\n",
       "    </tr>\n",
       "  </tbody>\n",
       "</table>\n",
       "<p>1258 rows × 2 columns</p>\n",
       "</div>"
      ],
      "text/plain": [
       "                 ret  rolling_std\n",
       "Date                             \n",
       "2019-01-03 -0.007011          NaN\n",
       "2019-01-04  0.012053          NaN\n",
       "2019-01-07  0.003676          NaN\n",
       "2019-01-08  0.002793          NaN\n",
       "2019-01-09  0.001931          NaN\n",
       "...              ...          ...\n",
       "2023-12-22  0.002198     0.006159\n",
       "2023-12-26  0.003298     0.006126\n",
       "2023-12-27  0.007107     0.005989\n",
       "2023-12-28 -0.002685     0.005947\n",
       "2023-12-29 -0.002826     0.005974\n",
       "\n",
       "[1258 rows x 2 columns]"
      ]
     },
     "execution_count": 38,
     "metadata": {},
     "output_type": "execute_result"
    }
   ],
   "source": [
    "window = 65\n",
    "returns['rolling_std'] = returns['ret'].rolling(window).std()\n",
    "returns"
   ]
  },
  {
   "cell_type": "code",
   "execution_count": 39,
   "id": "2b47ce9d-a784-490e-afc7-b5cff4901295",
   "metadata": {},
   "outputs": [
    {
     "data": {
      "image/png": "[encoded data removed]",
      "text/plain": [
       "<Figure size 1000x500 with 2 Axes>"
      ]
     },
     "metadata": {},
     "output_type": "display_data"
    }
   ],
   "source": [
    "col_names = ['ret', 'rolling_std']\n",
    "labels = [\"Portfolio returns\", f\"{window} days rolling volatility\"]\n",
    "\n",
    "fig, axs = plt.subplots(2, figsize=(10,5), sharex=True)\n",
    "for ax, name, label in zip(axs, col_names, labels):\n",
    "    ax.plot(returns[name])\n",
    "    ax.set_title(label)\n",
    "    ax.axhline(0, c='k', ls=':', lw=.5)\n",
    "    ax.yaxis.set_major_formatter(mtick.PercentFormatter(1))\n"
   ]
  },
  {
   "cell_type": "markdown",
   "id": "6ed99f35-cb3a-4869-a2a7-3b95b6841c03",
   "metadata": {},
   "source": [
    "Scale the returns with volatility and save as a new column\n",
    "$$x^{\\mathrm{vol\\,weighted\\,hist}}_t = \\frac{\\sigma(T)}{\\sigma(t)} x^{\\mathrm{hist}}_t$$"
   ]
  },
  {
   "cell_type": "code",
   "execution_count": 40,
   "id": "81778363-b84a-4f8c-a7d0-d0542a9ebb65",
   "metadata": {},
   "outputs": [
    {
     "data": {
      "text/plain": [
       "0.0059736329018587764"
      ]
     },
     "execution_count": 40,
     "metadata": {},
     "output_type": "execute_result"
    }
   ],
   "source": [
    "returns['rolling_std'].iloc[-1]"
   ]
  },
  {
   "cell_type": "code",
   "execution_count": 41,
   "id": "35efd348-911a-4cac-91e2-c0bc43916940",
   "metadata": {},
   "outputs": [
    {
     "data": {
      "text/html": [
       "<div>\n",
       "<style scoped>\n",
       "    .dataframe tbody tr th:only-of-type {\n",
       "        vertical-align: middle;\n",
       "    }\n",
       "\n",
       "    .dataframe tbody tr th {\n",
       "        vertical-align: top;\n",
       "    }\n",
       "\n",
       "    .dataframe thead th {\n",
       "        text-align: right;\n",
       "    }\n",
       "</style>\n",
       "<table border=\"1\" class=\"dataframe\">\n",
       "  <thead>\n",
       "    <tr style=\"text-align: right;\">\n",
       "      <th></th>\n",
       "      <th>ret</th>\n",
       "      <th>rolling_std</th>\n",
       "      <th>ret_vol_weighted</th>\n",
       "    </tr>\n",
       "    <tr>\n",
       "      <th>Date</th>\n",
       "      <th></th>\n",
       "      <th></th>\n",
       "      <th></th>\n",
       "    </tr>\n",
       "  </thead>\n",
       "  <tbody>\n",
       "    <tr>\n",
       "      <th>2023-12-22</th>\n",
       "      <td>0.002198</td>\n",
       "      <td>0.006159</td>\n",
       "      <td>0.002132</td>\n",
       "    </tr>\n",
       "    <tr>\n",
       "      <th>2023-12-26</th>\n",
       "      <td>0.003298</td>\n",
       "      <td>0.006126</td>\n",
       "      <td>0.003216</td>\n",
       "    </tr>\n",
       "    <tr>\n",
       "      <th>2023-12-27</th>\n",
       "      <td>0.007107</td>\n",
       "      <td>0.005989</td>\n",
       "      <td>0.007089</td>\n",
       "    </tr>\n",
       "    <tr>\n",
       "      <th>2023-12-28</th>\n",
       "      <td>-0.002685</td>\n",
       "      <td>0.005947</td>\n",
       "      <td>-0.002697</td>\n",
       "    </tr>\n",
       "    <tr>\n",
       "      <th>2023-12-29</th>\n",
       "      <td>-0.002826</td>\n",
       "      <td>0.005974</td>\n",
       "      <td>-0.002826</td>\n",
       "    </tr>\n",
       "  </tbody>\n",
       "</table>\n",
       "</div>"
      ],
      "text/plain": [
       "                 ret  rolling_std  ret_vol_weighted\n",
       "Date                                               \n",
       "2023-12-22  0.002198     0.006159          0.002132\n",
       "2023-12-26  0.003298     0.006126          0.003216\n",
       "2023-12-27  0.007107     0.005989          0.007089\n",
       "2023-12-28 -0.002685     0.005947         -0.002697\n",
       "2023-12-29 -0.002826     0.005974         -0.002826"
      ]
     },
     "execution_count": 41,
     "metadata": {},
     "output_type": "execute_result"
    }
   ],
   "source": [
    "returns['ret_vol_weighted'] = returns['ret'] / returns['rolling_std'] * returns['rolling_std'].iloc[-1]\n",
    "returns.tail()"
   ]
  },
  {
   "cell_type": "code",
   "execution_count": 42,
   "id": "d38632ef-b5b8-4b25-9264-65c198d43ea3",
   "metadata": {},
   "outputs": [
    {
     "data": {
      "image/png": "[encoded data removed]",
      "text/plain": [
       "<Figure size 1000x500 with 2 Axes>"
      ]
     },
     "metadata": {},
     "output_type": "display_data"
    }
   ],
   "source": [
    "col_names = ['ret', 'ret_vol_weighted']\n",
    "labels = [\"Raw returns\", \"Volatility-weighted returns\"]\n",
    "\n",
    "fig, axs = plt.subplots(2, figsize=(10,5), sharex=True, sharey=True)\n",
    "for ax, name, label in zip(axs, col_names, labels):\n",
    "    ax.plot(returns[name])\n",
    "    ax.set_title(label)\n",
    "    ax.axhline(0, c='k', ls=':', lw=.5)\n",
    "    ax.yaxis.set_major_formatter(mtick.PercentFormatter(1))\n"
   ]
  },
  {
   "cell_type": "markdown",
   "id": "cf311905-9f2c-4751-bb46-10059d2fabeb",
   "metadata": {},
   "source": [
    "Save the vol-weighted losses as a new column"
   ]
  },
  {
   "cell_type": "code",
   "execution_count": 43,
   "id": "9cdf4f77-93e7-4b02-859b-d3a81b2096e3",
   "metadata": {},
   "outputs": [
    {
     "data": {
      "text/html": [
       "<div>\n",
       "<style scoped>\n",
       "    .dataframe tbody tr th:only-of-type {\n",
       "        vertical-align: middle;\n",
       "    }\n",
       "\n",
       "    .dataframe tbody tr th {\n",
       "        vertical-align: top;\n",
       "    }\n",
       "\n",
       "    .dataframe thead th {\n",
       "        text-align: right;\n",
       "    }\n",
       "</style>\n",
       "<table border=\"1\" class=\"dataframe\">\n",
       "  <thead>\n",
       "    <tr style=\"text-align: right;\">\n",
       "      <th></th>\n",
       "      <th>ret</th>\n",
       "      <th>rolling_std</th>\n",
       "      <th>ret_vol_weighted</th>\n",
       "      <th>loss_vol_weighted</th>\n",
       "    </tr>\n",
       "    <tr>\n",
       "      <th>Date</th>\n",
       "      <th></th>\n",
       "      <th></th>\n",
       "      <th></th>\n",
       "      <th></th>\n",
       "    </tr>\n",
       "  </thead>\n",
       "  <tbody>\n",
       "    <tr>\n",
       "      <th>2023-12-22</th>\n",
       "      <td>0.002198</td>\n",
       "      <td>0.006159</td>\n",
       "      <td>0.002132</td>\n",
       "      <td>-0.213155</td>\n",
       "    </tr>\n",
       "    <tr>\n",
       "      <th>2023-12-26</th>\n",
       "      <td>0.003298</td>\n",
       "      <td>0.006126</td>\n",
       "      <td>0.003216</td>\n",
       "      <td>-0.321601</td>\n",
       "    </tr>\n",
       "    <tr>\n",
       "      <th>2023-12-27</th>\n",
       "      <td>0.007107</td>\n",
       "      <td>0.005989</td>\n",
       "      <td>0.007089</td>\n",
       "      <td>-0.708879</td>\n",
       "    </tr>\n",
       "    <tr>\n",
       "      <th>2023-12-28</th>\n",
       "      <td>-0.002685</td>\n",
       "      <td>0.005947</td>\n",
       "      <td>-0.002697</td>\n",
       "      <td>0.269714</td>\n",
       "    </tr>\n",
       "    <tr>\n",
       "      <th>2023-12-29</th>\n",
       "      <td>-0.002826</td>\n",
       "      <td>0.005974</td>\n",
       "      <td>-0.002826</td>\n",
       "      <td>0.282610</td>\n",
       "    </tr>\n",
       "  </tbody>\n",
       "</table>\n",
       "</div>"
      ],
      "text/plain": [
       "                 ret  rolling_std  ret_vol_weighted  loss_vol_weighted\n",
       "Date                                                                  \n",
       "2023-12-22  0.002198     0.006159          0.002132          -0.213155\n",
       "2023-12-26  0.003298     0.006126          0.003216          -0.321601\n",
       "2023-12-27  0.007107     0.005989          0.007089          -0.708879\n",
       "2023-12-28 -0.002685     0.005947         -0.002697           0.269714\n",
       "2023-12-29 -0.002826     0.005974         -0.002826           0.282610"
      ]
     },
     "execution_count": 43,
     "metadata": {},
     "output_type": "execute_result"
    }
   ],
   "source": [
    "returns['loss_vol_weighted'] = -1e2 * returns['ret_vol_weighted']\n",
    "returns.tail()"
   ]
  },
  {
   "cell_type": "markdown",
   "id": "80a9e8ff-7743-4bfd-8d58-c3fec026a3c2",
   "metadata": {},
   "source": [
    "Extract the losses, drop the NaN values and sort"
   ]
  },
  {
   "cell_type": "code",
   "execution_count": 44,
   "id": "9575b064-f513-47e7-a065-8d433e33584b",
   "metadata": {},
   "outputs": [
    {
     "data": {
      "text/plain": [
       "Date\n",
       "2020-03-09    2.207167\n",
       "2020-03-16    2.250195\n",
       "2020-02-25    2.529218\n",
       "2020-02-27    2.958690\n",
       "2020-03-12    3.288282\n",
       "Name: loss_vol_weighted, dtype: float64"
      ]
     },
     "execution_count": 44,
     "metadata": {},
     "output_type": "execute_result"
    }
   ],
   "source": [
    "losses = returns['loss_vol_weighted'].dropna().sort_values()\n",
    "losses.tail()"
   ]
  },
  {
   "cell_type": "markdown",
   "id": "29fbaa4b-b74a-4680-8caa-548e81c97f68",
   "metadata": {},
   "source": [
    "Find the position of the quantile and compute the vol-weighted VaR."
   ]
  },
  {
   "cell_type": "code",
   "execution_count": 45,
   "id": "830c249b-8ff7-4662-9329-795f5d486ae9",
   "metadata": {},
   "outputs": [
    {
     "data": {
      "text/plain": [
       "1194"
      ]
     },
     "execution_count": 45,
     "metadata": {},
     "output_type": "execute_result"
    }
   ],
   "source": [
    "len(losses)"
   ]
  },
  {
   "cell_type": "code",
   "execution_count": 46,
   "id": "b818e87f-82b8-4c12-8e79-cc569a9e9e40",
   "metadata": {},
   "outputs": [
    {
     "data": {
      "text/plain": [
       "1134"
      ]
     },
     "execution_count": 46,
     "metadata": {},
     "output_type": "execute_result"
    }
   ],
   "source": [
    "quantile_pos = int(alpha * len(losses))\n",
    "quantile_pos"
   ]
  },
  {
   "cell_type": "code",
   "execution_count": 47,
   "id": "7cefa8e1-d7b3-4409-b0fc-c31ff48dd630",
   "metadata": {},
   "outputs": [
    {
     "name": "stdout",
     "output_type": "stream",
     "text": [
      "The volatility-weighted VaR at 95.0% confidence level is 1.029 m€\n"
     ]
    }
   ],
   "source": [
    "VaR_vol_weight = losses.iloc[quantile_pos]\n",
    "print(f\"The volatility-weighted VaR at {alpha:.1%} confidence level is {VaR_vol_weight:.3f} m€\")"
   ]
  },
  {
   "cell_type": "markdown",
   "id": "94695d3d-aa37-4b2a-8760-fb0b52fcebc6",
   "metadata": {},
   "source": [
    "## Using EWMA volatility"
   ]
  },
  {
   "cell_type": "markdown",
   "id": "80a16a2b-1d25-45c1-a426-ef2bd5921152",
   "metadata": {},
   "source": [
    "We compute EWMA with the RiskMetrics parameter $\\lambda = 0.94$, that is a 6% weight on the last observation.  \n",
    "\n",
    "Note that the parameter in `pandas`' method is $\\alpha = 1-\\lambda$. See the following links:\n",
    "- [Exponentially weighted window](https://pandas.pydata.org/docs/user_guide/window.html#window-exponentially-weighted)  \n",
    "- [`pandas.DataFrame.ewm`](https://pandas.pydata.org/docs/reference/api/pandas.DataFrame.ewm.html)"
   ]
  },
  {
   "cell_type": "markdown",
   "id": "52ba43dc-1857-45f2-8eda-2f131216b2b0",
   "metadata": {},
   "source": [
    "Compute the EWMA standard deviation and save as a new column.  "
   ]
  },
  {
   "cell_type": "code",
   "execution_count": 48,
   "id": "ba778b80-8911-4f97-8761-63cabc8e178d",
   "metadata": {},
   "outputs": [
    {
     "name": "stdout",
     "output_type": "stream",
     "text": [
      "<class 'pandas.core.series.Series'>\n"
     ]
    },
    {
     "data": {
      "text/html": [
       "<div>\n",
       "<style scoped>\n",
       "    .dataframe tbody tr th:only-of-type {\n",
       "        vertical-align: middle;\n",
       "    }\n",
       "\n",
       "    .dataframe tbody tr th {\n",
       "        vertical-align: top;\n",
       "    }\n",
       "\n",
       "    .dataframe thead th {\n",
       "        text-align: right;\n",
       "    }\n",
       "</style>\n",
       "<table border=\"1\" class=\"dataframe\">\n",
       "  <thead>\n",
       "    <tr style=\"text-align: right;\">\n",
       "      <th></th>\n",
       "      <th>ret</th>\n",
       "      <th>rolling_std</th>\n",
       "      <th>ret_vol_weighted</th>\n",
       "      <th>loss_vol_weighted</th>\n",
       "      <th>EWMA_vol</th>\n",
       "    </tr>\n",
       "    <tr>\n",
       "      <th>Date</th>\n",
       "      <th></th>\n",
       "      <th></th>\n",
       "      <th></th>\n",
       "      <th></th>\n",
       "      <th></th>\n",
       "    </tr>\n",
       "  </thead>\n",
       "  <tbody>\n",
       "    <tr>\n",
       "      <th>2019-01-03</th>\n",
       "      <td>-0.007011</td>\n",
       "      <td>NaN</td>\n",
       "      <td>NaN</td>\n",
       "      <td>NaN</td>\n",
       "      <td>NaN</td>\n",
       "    </tr>\n",
       "    <tr>\n",
       "      <th>2019-01-04</th>\n",
       "      <td>0.012053</td>\n",
       "      <td>NaN</td>\n",
       "      <td>NaN</td>\n",
       "      <td>NaN</td>\n",
       "      <td>0.013481</td>\n",
       "    </tr>\n",
       "    <tr>\n",
       "      <th>2019-01-07</th>\n",
       "      <td>0.003676</td>\n",
       "      <td>NaN</td>\n",
       "      <td>NaN</td>\n",
       "      <td>NaN</td>\n",
       "      <td>0.009397</td>\n",
       "    </tr>\n",
       "    <tr>\n",
       "      <th>2019-01-08</th>\n",
       "      <td>0.002793</td>\n",
       "      <td>NaN</td>\n",
       "      <td>NaN</td>\n",
       "      <td>NaN</td>\n",
       "      <td>0.007554</td>\n",
       "    </tr>\n",
       "    <tr>\n",
       "      <th>2019-01-09</th>\n",
       "      <td>0.001931</td>\n",
       "      <td>NaN</td>\n",
       "      <td>NaN</td>\n",
       "      <td>NaN</td>\n",
       "      <td>0.006458</td>\n",
       "    </tr>\n",
       "    <tr>\n",
       "      <th>...</th>\n",
       "      <td>...</td>\n",
       "      <td>...</td>\n",
       "      <td>...</td>\n",
       "      <td>...</td>\n",
       "      <td>...</td>\n",
       "    </tr>\n",
       "    <tr>\n",
       "      <th>2023-12-22</th>\n",
       "      <td>0.002198</td>\n",
       "      <td>0.006159</td>\n",
       "      <td>0.002132</td>\n",
       "      <td>-0.213155</td>\n",
       "      <td>0.005697</td>\n",
       "    </tr>\n",
       "    <tr>\n",
       "      <th>2023-12-26</th>\n",
       "      <td>0.003298</td>\n",
       "      <td>0.006126</td>\n",
       "      <td>0.003216</td>\n",
       "      <td>-0.321601</td>\n",
       "      <td>0.005527</td>\n",
       "    </tr>\n",
       "    <tr>\n",
       "      <th>2023-12-27</th>\n",
       "      <td>0.007107</td>\n",
       "      <td>0.005989</td>\n",
       "      <td>0.007089</td>\n",
       "      <td>-0.708879</td>\n",
       "      <td>0.005474</td>\n",
       "    </tr>\n",
       "    <tr>\n",
       "      <th>2023-12-28</th>\n",
       "      <td>-0.002685</td>\n",
       "      <td>0.005947</td>\n",
       "      <td>-0.002697</td>\n",
       "      <td>0.269714</td>\n",
       "      <td>0.005467</td>\n",
       "    </tr>\n",
       "    <tr>\n",
       "      <th>2023-12-29</th>\n",
       "      <td>-0.002826</td>\n",
       "      <td>0.005974</td>\n",
       "      <td>-0.002826</td>\n",
       "      <td>0.282610</td>\n",
       "      <td>0.005450</td>\n",
       "    </tr>\n",
       "  </tbody>\n",
       "</table>\n",
       "<p>1258 rows × 5 columns</p>\n",
       "</div>"
      ],
      "text/plain": [
       "                 ret  rolling_std  ret_vol_weighted  loss_vol_weighted  \\\n",
       "Date                                                                     \n",
       "2019-01-03 -0.007011          NaN               NaN                NaN   \n",
       "2019-01-04  0.012053          NaN               NaN                NaN   \n",
       "2019-01-07  0.003676          NaN               NaN                NaN   \n",
       "2019-01-08  0.002793          NaN               NaN                NaN   \n",
       "2019-01-09  0.001931          NaN               NaN                NaN   \n",
       "...              ...          ...               ...                ...   \n",
       "2023-12-22  0.002198     0.006159          0.002132          -0.213155   \n",
       "2023-12-26  0.003298     0.006126          0.003216          -0.321601   \n",
       "2023-12-27  0.007107     0.005989          0.007089          -0.708879   \n",
       "2023-12-28 -0.002685     0.005947         -0.002697           0.269714   \n",
       "2023-12-29 -0.002826     0.005974         -0.002826           0.282610   \n",
       "\n",
       "            EWMA_vol  \n",
       "Date                  \n",
       "2019-01-03       NaN  \n",
       "2019-01-04  0.013481  \n",
       "2019-01-07  0.009397  \n",
       "2019-01-08  0.007554  \n",
       "2019-01-09  0.006458  \n",
       "...              ...  \n",
       "2023-12-22  0.005697  \n",
       "2023-12-26  0.005527  \n",
       "2023-12-27  0.005474  \n",
       "2023-12-28  0.005467  \n",
       "2023-12-29  0.005450  \n",
       "\n",
       "[1258 rows x 5 columns]"
      ]
     },
     "execution_count": 48,
     "metadata": {},
     "output_type": "execute_result"
    }
   ],
   "source": [
    "lam = 0.94\n",
    "print(type(returns['ret']))\n",
    "returns['EWMA_vol'] = returns['ret'].ewm(alpha=1-lam).std()\n",
    "returns"
   ]
  },
  {
   "cell_type": "code",
   "execution_count": 49,
   "id": "014fc9d8-d9e4-47b1-b077-9360869f1cbc",
   "metadata": {},
   "outputs": [
    {
     "data": {
      "image/png": "[encoded data removed]",
      "text/plain": [
       "<Figure size 1000x800 with 3 Axes>"
      ]
     },
     "metadata": {},
     "output_type": "display_data"
    }
   ],
   "source": [
    "col_names = ['ret', 'rolling_std', 'EWMA_vol']\n",
    "labels = [\"Portfolio returns\",\n",
    "          f\"{window} days rolling volatility\",\n",
    "          f\"EWMA volatility $\\lambda$={lam}\"]\n",
    "          \n",
    "fig, axs = plt.subplots(3, figsize=(10,8), sharex=True)\n",
    "for ax, name, label in zip(axs, col_names, labels):\n",
    "    ax.plot(returns[name])\n",
    "    ax.set_title(label)\n",
    "    ax.axhline(0, c='k', ls=':', lw=.5)\n",
    "    ax.yaxis.set_major_formatter(mtick.PercentFormatter(1))\n"
   ]
  },
  {
   "cell_type": "markdown",
   "id": "c6185a45-a99f-40a6-8546-ecc9d819f7aa",
   "metadata": {},
   "source": [
    "Scale the returns with EWMA volatility and save as a new column"
   ]
  },
  {
   "cell_type": "code",
   "execution_count": 50,
   "id": "7cbd5501-4aa9-46ee-9920-a2fc39dee6c0",
   "metadata": {},
   "outputs": [
    {
     "data": {
      "text/html": [
       "<div>\n",
       "<style scoped>\n",
       "    .dataframe tbody tr th:only-of-type {\n",
       "        vertical-align: middle;\n",
       "    }\n",
       "\n",
       "    .dataframe tbody tr th {\n",
       "        vertical-align: top;\n",
       "    }\n",
       "\n",
       "    .dataframe thead th {\n",
       "        text-align: right;\n",
       "    }\n",
       "</style>\n",
       "<table border=\"1\" class=\"dataframe\">\n",
       "  <thead>\n",
       "    <tr style=\"text-align: right;\">\n",
       "      <th></th>\n",
       "      <th>ret</th>\n",
       "      <th>rolling_std</th>\n",
       "      <th>ret_vol_weighted</th>\n",
       "      <th>loss_vol_weighted</th>\n",
       "      <th>EWMA_vol</th>\n",
       "      <th>ret_EWMA_weighted</th>\n",
       "    </tr>\n",
       "    <tr>\n",
       "      <th>Date</th>\n",
       "      <th></th>\n",
       "      <th></th>\n",
       "      <th></th>\n",
       "      <th></th>\n",
       "      <th></th>\n",
       "      <th></th>\n",
       "    </tr>\n",
       "  </thead>\n",
       "  <tbody>\n",
       "    <tr>\n",
       "      <th>2023-12-22</th>\n",
       "      <td>0.002198</td>\n",
       "      <td>0.006159</td>\n",
       "      <td>0.002132</td>\n",
       "      <td>-0.213155</td>\n",
       "      <td>0.005697</td>\n",
       "      <td>0.002103</td>\n",
       "    </tr>\n",
       "    <tr>\n",
       "      <th>2023-12-26</th>\n",
       "      <td>0.003298</td>\n",
       "      <td>0.006126</td>\n",
       "      <td>0.003216</td>\n",
       "      <td>-0.321601</td>\n",
       "      <td>0.005527</td>\n",
       "      <td>0.003252</td>\n",
       "    </tr>\n",
       "    <tr>\n",
       "      <th>2023-12-27</th>\n",
       "      <td>0.007107</td>\n",
       "      <td>0.005989</td>\n",
       "      <td>0.007089</td>\n",
       "      <td>-0.708879</td>\n",
       "      <td>0.005474</td>\n",
       "      <td>0.007076</td>\n",
       "    </tr>\n",
       "    <tr>\n",
       "      <th>2023-12-28</th>\n",
       "      <td>-0.002685</td>\n",
       "      <td>0.005947</td>\n",
       "      <td>-0.002697</td>\n",
       "      <td>0.269714</td>\n",
       "      <td>0.005467</td>\n",
       "      <td>-0.002677</td>\n",
       "    </tr>\n",
       "    <tr>\n",
       "      <th>2023-12-29</th>\n",
       "      <td>-0.002826</td>\n",
       "      <td>0.005974</td>\n",
       "      <td>-0.002826</td>\n",
       "      <td>0.282610</td>\n",
       "      <td>0.005450</td>\n",
       "      <td>-0.002826</td>\n",
       "    </tr>\n",
       "  </tbody>\n",
       "</table>\n",
       "</div>"
      ],
      "text/plain": [
       "                 ret  rolling_std  ret_vol_weighted  loss_vol_weighted  \\\n",
       "Date                                                                     \n",
       "2023-12-22  0.002198     0.006159          0.002132          -0.213155   \n",
       "2023-12-26  0.003298     0.006126          0.003216          -0.321601   \n",
       "2023-12-27  0.007107     0.005989          0.007089          -0.708879   \n",
       "2023-12-28 -0.002685     0.005947         -0.002697           0.269714   \n",
       "2023-12-29 -0.002826     0.005974         -0.002826           0.282610   \n",
       "\n",
       "            EWMA_vol  ret_EWMA_weighted  \n",
       "Date                                     \n",
       "2023-12-22  0.005697           0.002103  \n",
       "2023-12-26  0.005527           0.003252  \n",
       "2023-12-27  0.005474           0.007076  \n",
       "2023-12-28  0.005467          -0.002677  \n",
       "2023-12-29  0.005450          -0.002826  "
      ]
     },
     "execution_count": 50,
     "metadata": {},
     "output_type": "execute_result"
    }
   ],
   "source": [
    "returns['ret_EWMA_weighted'] = returns['ret'] / returns['EWMA_vol'] * returns['EWMA_vol'].iloc[-1]\n",
    "returns.tail()"
   ]
  },
  {
   "cell_type": "code",
   "execution_count": 51,
   "id": "063564eb-6d64-47be-baf9-dd7f547ee73c",
   "metadata": {},
   "outputs": [
    {
     "data": {
      "text/plain": [
       "0.005450332604655505"
      ]
     },
     "execution_count": 51,
     "metadata": {},
     "output_type": "execute_result"
    }
   ],
   "source": [
    "returns['EWMA_vol'].iloc[-1]"
   ]
  },
  {
   "cell_type": "code",
   "execution_count": 52,
   "id": "05ebfe66-0050-4f6c-9611-3580f374b460",
   "metadata": {},
   "outputs": [
    {
     "data": {
      "image/png": "[encoded data removed]",
      "text/plain": [
       "<Figure size 1000x800 with 3 Axes>"
      ]
     },
     "metadata": {},
     "output_type": "display_data"
    }
   ],
   "source": [
    "col_names = ['ret', 'ret_vol_weighted', 'ret_EWMA_weighted']\n",
    "labels = [\"Raw returns\",\n",
    "          \"Volatility-weighted returns\",\n",
    "          \"EWMA-weighted returns\"]\n",
    "          \n",
    "fig, axs = plt.subplots(3, figsize=(10,8), sharex=True, sharey=True)\n",
    "for ax, name, label in zip(axs, col_names, labels):\n",
    "    ax.plot(returns[name])\n",
    "    ax.set_title(label)\n",
    "    ax.axhline(0, c='k', ls=':', lw=.5)\n",
    "    ax.yaxis.set_major_formatter(mtick.PercentFormatter(1))\n"
   ]
  },
  {
   "cell_type": "markdown",
   "id": "bb5701d5-df5b-40c9-a31b-8225532f3953",
   "metadata": {},
   "source": [
    "Save the EWMA-weighted losses as a new column"
   ]
  },
  {
   "cell_type": "code",
   "execution_count": 53,
   "id": "9cc28308-31b3-4356-93c3-4cea2382e9b8",
   "metadata": {},
   "outputs": [
    {
     "data": {
      "text/html": [
       "<div>\n",
       "<style scoped>\n",
       "    .dataframe tbody tr th:only-of-type {\n",
       "        vertical-align: middle;\n",
       "    }\n",
       "\n",
       "    .dataframe tbody tr th {\n",
       "        vertical-align: top;\n",
       "    }\n",
       "\n",
       "    .dataframe thead th {\n",
       "        text-align: right;\n",
       "    }\n",
       "</style>\n",
       "<table border=\"1\" class=\"dataframe\">\n",
       "  <thead>\n",
       "    <tr style=\"text-align: right;\">\n",
       "      <th></th>\n",
       "      <th>ret</th>\n",
       "      <th>rolling_std</th>\n",
       "      <th>ret_vol_weighted</th>\n",
       "      <th>loss_vol_weighted</th>\n",
       "      <th>EWMA_vol</th>\n",
       "      <th>ret_EWMA_weighted</th>\n",
       "      <th>loss_EWMA_weighted</th>\n",
       "    </tr>\n",
       "    <tr>\n",
       "      <th>Date</th>\n",
       "      <th></th>\n",
       "      <th></th>\n",
       "      <th></th>\n",
       "      <th></th>\n",
       "      <th></th>\n",
       "      <th></th>\n",
       "      <th></th>\n",
       "    </tr>\n",
       "  </thead>\n",
       "  <tbody>\n",
       "    <tr>\n",
       "      <th>2023-12-22</th>\n",
       "      <td>0.002198</td>\n",
       "      <td>0.006159</td>\n",
       "      <td>0.002132</td>\n",
       "      <td>-0.213155</td>\n",
       "      <td>0.005697</td>\n",
       "      <td>0.002103</td>\n",
       "      <td>-0.210260</td>\n",
       "    </tr>\n",
       "    <tr>\n",
       "      <th>2023-12-26</th>\n",
       "      <td>0.003298</td>\n",
       "      <td>0.006126</td>\n",
       "      <td>0.003216</td>\n",
       "      <td>-0.321601</td>\n",
       "      <td>0.005527</td>\n",
       "      <td>0.003252</td>\n",
       "      <td>-0.325201</td>\n",
       "    </tr>\n",
       "    <tr>\n",
       "      <th>2023-12-27</th>\n",
       "      <td>0.007107</td>\n",
       "      <td>0.005989</td>\n",
       "      <td>0.007089</td>\n",
       "      <td>-0.708879</td>\n",
       "      <td>0.005474</td>\n",
       "      <td>0.007076</td>\n",
       "      <td>-0.707630</td>\n",
       "    </tr>\n",
       "    <tr>\n",
       "      <th>2023-12-28</th>\n",
       "      <td>-0.002685</td>\n",
       "      <td>0.005947</td>\n",
       "      <td>-0.002697</td>\n",
       "      <td>0.269714</td>\n",
       "      <td>0.005467</td>\n",
       "      <td>-0.002677</td>\n",
       "      <td>0.267695</td>\n",
       "    </tr>\n",
       "    <tr>\n",
       "      <th>2023-12-29</th>\n",
       "      <td>-0.002826</td>\n",
       "      <td>0.005974</td>\n",
       "      <td>-0.002826</td>\n",
       "      <td>0.282610</td>\n",
       "      <td>0.005450</td>\n",
       "      <td>-0.002826</td>\n",
       "      <td>0.282610</td>\n",
       "    </tr>\n",
       "  </tbody>\n",
       "</table>\n",
       "</div>"
      ],
      "text/plain": [
       "                 ret  rolling_std  ret_vol_weighted  loss_vol_weighted  \\\n",
       "Date                                                                     \n",
       "2023-12-22  0.002198     0.006159          0.002132          -0.213155   \n",
       "2023-12-26  0.003298     0.006126          0.003216          -0.321601   \n",
       "2023-12-27  0.007107     0.005989          0.007089          -0.708879   \n",
       "2023-12-28 -0.002685     0.005947         -0.002697           0.269714   \n",
       "2023-12-29 -0.002826     0.005974         -0.002826           0.282610   \n",
       "\n",
       "            EWMA_vol  ret_EWMA_weighted  loss_EWMA_weighted  \n",
       "Date                                                         \n",
       "2023-12-22  0.005697           0.002103           -0.210260  \n",
       "2023-12-26  0.005527           0.003252           -0.325201  \n",
       "2023-12-27  0.005474           0.007076           -0.707630  \n",
       "2023-12-28  0.005467          -0.002677            0.267695  \n",
       "2023-12-29  0.005450          -0.002826            0.282610  "
      ]
     },
     "execution_count": 53,
     "metadata": {},
     "output_type": "execute_result"
    }
   ],
   "source": [
    "returns['loss_EWMA_weighted'] = -1e2 * returns['ret_EWMA_weighted']\n",
    "returns.tail()"
   ]
  },
  {
   "cell_type": "markdown",
   "id": "a32a7a23-4710-4e40-b5b9-7853531004fa",
   "metadata": {},
   "source": [
    "Extract the losses, drop the NaN values and sort"
   ]
  },
  {
   "cell_type": "code",
   "execution_count": 58,
   "id": "05307318-6492-4707-b6dc-aa4ebe71a85c",
   "metadata": {},
   "outputs": [
    {
     "data": {
      "text/plain": [
       "Date\n",
       "2022-11-10   -1.654955\n",
       "2019-06-20   -1.552942\n",
       "2020-03-02   -1.373137\n",
       "2023-11-14   -1.276621\n",
       "2023-11-02   -1.232905\n",
       "                ...   \n",
       "2021-09-28    1.581311\n",
       "2021-02-25    1.606371\n",
       "2023-09-21    1.634897\n",
       "2020-02-27    1.694550\n",
       "2020-03-12    1.751573\n",
       "Name: loss_EWMA_weighted, Length: 1257, dtype: float64"
      ]
     },
     "execution_count": 58,
     "metadata": {},
     "output_type": "execute_result"
    }
   ],
   "source": [
    "losses = returns['loss_EWMA_weighted'].dropna().sort_values()\n",
    "losses"
   ]
  },
  {
   "cell_type": "markdown",
   "id": "7602e40e-6f6b-4d93-8602-521ec1c9241e",
   "metadata": {},
   "source": [
    "Find the position of the quantile and compute the vol-weighted VaR."
   ]
  },
  {
   "cell_type": "code",
   "execution_count": 55,
   "id": "6003ea7e-ba78-4b17-8b4e-064b02a428dd",
   "metadata": {},
   "outputs": [
    {
     "data": {
      "text/plain": [
       "1194"
      ]
     },
     "execution_count": 55,
     "metadata": {},
     "output_type": "execute_result"
    }
   ],
   "source": [
    "quantile_pos = int(alpha * len(losses))\n",
    "quantile_pos"
   ]
  },
  {
   "cell_type": "code",
   "execution_count": 56,
   "id": "5a9c1bdd-c058-46be-b94e-3c09f8202826",
   "metadata": {},
   "outputs": [
    {
     "name": "stdout",
     "output_type": "stream",
     "text": [
      "The EWMA-weighted VaR at 95.0% confidence level is 0.875 m€\n"
     ]
    }
   ],
   "source": [
    "VaR_EWMA_weight = losses.iloc[quantile_pos]\n",
    "print(f\"The EWMA-weighted VaR at {alpha:.1%} confidence level is {VaR_EWMA_weight:.3f} m€\")"
   ]
  },
  {
   "cell_type": "code",
   "execution_count": null,
   "id": "b0d68952-46d4-4fa9-b7ef-ff980747a8c2",
   "metadata": {},
   "outputs": [],
   "source": []
  },
  {
   "cell_type": "code",
   "execution_count": null,
   "id": "01284ad3-12fd-487a-b492-bd648be9e403",
   "metadata": {},
   "outputs": [],
   "source": []
  }
 ],
 "metadata": {
  "kernelspec": {
   "display_name": "Python 3 (ipykernel)",
   "language": "python",
   "name": "python3"
  },
  "language_info": {
   "codemirror_mode": {
    "name": "ipython",
    "version": 3
   },
   "file_extension": ".py",
   "mimetype": "text/x-python",
   "name": "python",
   "nbconvert_exporter": "python",
   "pygments_lexer": "ipython3",
   "version": "3.8.17"
  }
 },
 "nbformat": 4,
 "nbformat_minor": 5
}
